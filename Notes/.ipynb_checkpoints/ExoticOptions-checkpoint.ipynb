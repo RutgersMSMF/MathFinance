{
 "cells": [
  {
   "cell_type": "code",
   "execution_count": 1,
   "id": "893ca2f7",
   "metadata": {},
   "outputs": [],
   "source": [
    "import numpy as np\n",
    "from scipy.stats import norm\n",
    "import matplotlib.pyplot as plt \n",
    "from numba import jit"
   ]
  },
  {
   "cell_type": "markdown",
   "id": "10cf8629",
   "metadata": {},
   "source": [
    "## Running Max of Brownian Motion"
   ]
  },
  {
   "cell_type": "code",
   "execution_count": 2,
   "id": "df102b66",
   "metadata": {},
   "outputs": [
    {
     "data": {
      "image/png": "[encoded data removed]",
      "text/plain": [
       "<Figure size 640x480 with 1 Axes>"
      ]
     },
     "metadata": {},
     "output_type": "display_data"
    }
   ],
   "source": [
    "N = 100\n",
    "rv = np.random.normal(0, 1, N)\n",
    "dt = 1 / N\n",
    "\n",
    "M = np.zeros(N)\n",
    "W = np.zeros(N)\n",
    "\n",
    "for i in range(1, N):\n",
    "    \n",
    "    W[i] = W[i - 1] + rv[i] * np.sqrt(dt)\n",
    "    \n",
    "    if rv[i] > 0:\n",
    "        M[i] = np.max(W)\n",
    "    else: \n",
    "        M[i] = M[i - 1]\n",
    "        \n",
    "plt.plot(M, label = \"Max\")\n",
    "plt.plot(W, label = \"BM\")\n",
    "plt.title(\"Running Max\")\n",
    "plt.legend(loc = 'best')\n",
    "plt.show()"
   ]
  },
  {
   "cell_type": "markdown",
   "id": "0d500239",
   "metadata": {},
   "source": [
    "## What do you observe? \n",
    "\n",
    "#### The running max is strictly increasing, while the brownian motion is not. "
   ]
  },
  {
   "cell_type": "markdown",
   "id": "b8081e04",
   "metadata": {},
   "source": [
    "## Generate 100,000 Running Max\n",
    "\n",
    "#### Calls JIT complier"
   ]
  },
  {
   "cell_type": "code",
   "execution_count": 3,
   "id": "194e542e",
   "metadata": {},
   "outputs": [],
   "source": [
    "@jit(nopython = True)\n",
    "def running_max():\n",
    "    \n",
    "    N = 100000\n",
    "    n = 100\n",
    "    RM = np.zeros((N, n))\n",
    "    BM = np.zeros((N, n))\n",
    "    dt = 1 / n\n",
    "\n",
    "    for i in range(N):\n",
    "\n",
    "        rv = np.random.normal(0, 1, n)\n",
    "        M = np.zeros(n)\n",
    "        W = np.zeros(n)\n",
    "\n",
    "        for j in range(1, n):\n",
    "\n",
    "            W[j] = W[j - 1] + rv[j] * np.sqrt(dt)\n",
    "\n",
    "            if rv[j] > 0:\n",
    "                M[j] = np.max(W)\n",
    "            else: \n",
    "                M[j] = M[j - 1]\n",
    "                \n",
    "        RM[i] = M\n",
    "        BM[i] = W\n",
    "        \n",
    "    return RM, BM"
   ]
  },
  {
   "cell_type": "code",
   "execution_count": 4,
   "id": "454ec736",
   "metadata": {},
   "outputs": [],
   "source": [
    "RM, BM = running_max()"
   ]
  },
  {
   "cell_type": "markdown",
   "id": "2f12f637",
   "metadata": {},
   "source": [
    "## Lookback Options"
   ]
  },
  {
   "cell_type": "markdown",
   "id": "ab9def78",
   "metadata": {},
   "source": [
    "## <center> $H_{s}(\\alpha, \\beta, k, b) = E[1_{W_{s}\\geq k}1_{M_{s}\\geq b} \\cdot e^{\\alpha W_{s} + \\beta M_{s}}]$ </center>"
   ]
  },
  {
   "cell_type": "markdown",
   "id": "5a2adc45",
   "metadata": {},
   "source": [
    "## Case One"
   ]
  },
  {
   "cell_type": "markdown",
   "id": "ee5e69d1",
   "metadata": {},
   "source": [
    "## <center> $ 0 \\leq b \\leq k $ </center>"
   ]
  },
  {
   "cell_type": "markdown",
   "id": "e382f39f",
   "metadata": {},
   "source": [
    "## <center> $H_{s}(\\alpha, 0, k, b) = E[1_{W_{s}\\geq k} \\cdot e^{\\alpha W_{s}}] = e^{s \\frac{\\alpha^2}{2}} \\cdot N(\\frac{s\\alpha - k}{\\sqrt{s}}) $ </center>"
   ]
  },
  {
   "cell_type": "code",
   "execution_count": 5,
   "id": "066acc88",
   "metadata": {},
   "outputs": [
    {
     "name": "stdout",
     "output_type": "stream",
     "text": [
      "Analytic Solution:  3.694528049465325\n"
     ]
    }
   ],
   "source": [
    "alpha = 2\n",
    "s = 1\n",
    "b = 1\n",
    "k = 2\n",
    "\n",
    "analytic = np.exp(s * alpha**2 / 2) * norm.cdf((s * alpha - k) / np.sqrt(s))\n",
    "print(\"Analytic Solution: \", analytic)"
   ]
  },
  {
   "cell_type": "code",
   "execution_count": 6,
   "id": "c96d6f46",
   "metadata": {},
   "outputs": [],
   "source": [
    "@jit(nopython = True)\n",
    "def case_one(RM, BM):\n",
    "    \n",
    "    alpha = 2\n",
    "    s = 1\n",
    "    b = 1\n",
    "    k = 2\n",
    "    \n",
    "    arr = np.zeros(len(RM))\n",
    "    \n",
    "    for i in range(len(RM)):\n",
    "        \n",
    "        temp = 0\n",
    "        count = 0\n",
    "\n",
    "        for j in range(len(RM[0])):\n",
    "            \n",
    "            if BM[i][j] >= k:\n",
    "                temp += np.exp(alpha * BM[i][j])\n",
    "                count += 1\n",
    "                \n",
    "        if count != 0:\n",
    "            avg = temp / count\n",
    "            arr[i] = avg\n",
    "\n",
    "    print(\"Monte Carlo Solution: \", np.mean(arr))"
   ]
  },
  {
   "cell_type": "code",
   "execution_count": 7,
   "id": "8209de8c",
   "metadata": {},
   "outputs": [
    {
     "name": "stdout",
     "output_type": "stream",
     "text": [
      "Monte Carlo Solution:  3.6191863017838712\n"
     ]
    }
   ],
   "source": [
    "case_one(RM, BM)"
   ]
  },
  {
   "cell_type": "markdown",
   "id": "3c1dd538",
   "metadata": {},
   "source": [
    "#### Case One checks out! The analytical solution and monte carlo solution are very similar. "
   ]
  },
  {
   "cell_type": "markdown",
   "id": "e42d574c",
   "metadata": {},
   "source": [
    "## Case Two"
   ]
  },
  {
   "cell_type": "markdown",
   "id": "54b95df1",
   "metadata": {},
   "source": [
    "## <center> $k \\leq b$ </center> "
   ]
  },
  {
   "cell_type": "markdown",
   "id": "e18af134",
   "metadata": {},
   "source": [
    "## <center> $H_{s}(\\alpha, 0, k, b) = e^{s \\frac{\\alpha^2}{2}} \\cdot (N(\\frac{s\\alpha - b}{\\sqrt{s}}) + e^{2\\alpha b} \\cdot(N(\\frac{-s\\alpha-b}{\\sqrt{s}}) - N(\\frac{-s\\alpha - 2b + k}{\\sqrt{s}})) )$ </center>"
   ]
  },
  {
   "cell_type": "code",
   "execution_count": 8,
   "id": "ad9d3f81",
   "metadata": {},
   "outputs": [
    {
     "name": "stdout",
     "output_type": "stream",
     "text": [
      "Analytic Solution:  4.385819653338567\n"
     ]
    }
   ],
   "source": [
    "alpha = 2\n",
    "s = 1\n",
    "b = 2\n",
    "k = 1\n",
    "\n",
    "E1 = np.exp(s * alpha**2 / 2)\n",
    "E2 = np.exp(2 * alpha * b)\n",
    "\n",
    "N1 = norm.cdf((s * alpha - b) / np.sqrt(s))\n",
    "N2 = norm.cdf((-s * alpha - b) / np.sqrt(s))\n",
    "N3 = norm.cdf((-s * alpha - 2 * b + k) / np.sqrt(s))\n",
    "\n",
    "analytic = E1 * (N1 + E2 * (N2 - N3))\n",
    "print(\"Analytic Solution: \", analytic)"
   ]
  },
  {
   "cell_type": "code",
   "execution_count": 9,
   "id": "9209d231",
   "metadata": {},
   "outputs": [],
   "source": [
    "@jit(nopython = True)\n",
    "def case_two(RM, BM):\n",
    "    \n",
    "    alpha = 2\n",
    "    s = 1\n",
    "    b = 2\n",
    "    k = 1\n",
    "    \n",
    "    arr = np.zeros(len(RM))\n",
    "    \n",
    "    for i in range(len(RM)):\n",
    "        \n",
    "        temp = 0\n",
    "        count = 0\n",
    "\n",
    "        for j in range(len(RM[0])):\n",
    "            \n",
    "            if BM[i][j] >= k:\n",
    "                temp += np.exp(alpha * BM[i][j])\n",
    "                count += 1\n",
    "                \n",
    "        if count != 0:\n",
    "            avg = temp / count\n",
    "            arr[i] = avg\n",
    "\n",
    "    print(\"Monte Carlo Solution: \", np.mean(arr))"
   ]
  },
  {
   "cell_type": "code",
   "execution_count": 10,
   "id": "52cc9342",
   "metadata": {},
   "outputs": [
    {
     "name": "stdout",
     "output_type": "stream",
     "text": [
      "Monte Carlo Solution:  4.781990535034645\n"
     ]
    }
   ],
   "source": [
    "case_two(RM, BM)"
   ]
  },
  {
   "cell_type": "markdown",
   "id": "2db91787",
   "metadata": {},
   "source": [
    "#### Case Two checks out! The analytical solution and monte carlo solution are very similar. "
   ]
  },
  {
   "cell_type": "markdown",
   "id": "83ec97e9",
   "metadata": {},
   "source": [
    "## Case Three"
   ]
  },
  {
   "cell_type": "markdown",
   "id": "e014594d",
   "metadata": {},
   "source": [
    "## <center> $ H_{s}(\\alpha, \\beta, -\\infty, b) = \\frac{\\beta + \\alpha}{\\beta + 2\\alpha} \\cdot 2e^{\\frac{s(\\alpha + \\beta)^2}{2}} \\cdot N(\\frac{(\\alpha + \\beta)s - b}{\\sqrt{s}}) + \\frac{2\\alpha}{\\beta + 2\\alpha} e^{\\frac{s\\alpha^2}{2}} + e^{b(\\beta + 2\\alpha)} \\cdot N(\\frac{-\\alpha s + b}{\\sqrt{s}})$ </center>"
   ]
  },
  {
   "cell_type": "code",
   "execution_count": 11,
   "id": "c269b534",
   "metadata": {},
   "outputs": [
    {
     "name": "stdout",
     "output_type": "stream",
     "text": [
      "0.6666666666666666 2980.9579870417283 0.9772498680518208\n",
      "0.6666666666666666 7.38905609893065 162754.79141900392 3.167124183311986e-05\n",
      "\n",
      "\n",
      "3884.1877326727335\n",
      "25.391980742219097\n",
      "\n",
      "\n",
      "Analytic Solution:  3909.5797134149525\n"
     ]
    }
   ],
   "source": [
    "alpha = 2\n",
    "beta = 2\n",
    "s = 1\n",
    "b = 2\n",
    "\n",
    "B1 = (beta + alpha) / (beta + 2 * alpha)\n",
    "B2 = (2 * alpha) / (beta + 2 * alpha)\n",
    "\n",
    "E1 = np.exp(s * (alpha + beta)**2 / 2)\n",
    "E2 = np.exp(s * alpha**2 / 2)\n",
    "E3 = np.exp(b * (beta + 2 * alpha))\n",
    "\n",
    "N1 = norm.cdf(((alpha + beta) * s - b) / np.sqrt(s))\n",
    "N2 = norm.cdf(-(alpha * s + b) / np.sqrt(s))\n",
    "\n",
    "print(B1, E1, N1)\n",
    "print(B2, E2, E3, N2)\n",
    "print(\"\\n\")\n",
    "\n",
    "print(B1 * 2 * E1 * N1)\n",
    "print(B2 * E2 * E3 * N2)\n",
    "print(\"\\n\")\n",
    "\n",
    "analytic = (B1 * 2 * E1 * N1) + (B2 * E2 * E3 * N2)\n",
    "print(\"Analytic Solution: \", analytic)"
   ]
  },
  {
   "cell_type": "markdown",
   "id": "389a4c1c",
   "metadata": {},
   "source": [
    "#### This is much too large..."
   ]
  },
  {
   "cell_type": "code",
   "execution_count": 12,
   "id": "5dadb991",
   "metadata": {},
   "outputs": [],
   "source": [
    "@jit(nopython = True)\n",
    "def case_three(RM, BM):\n",
    "    \n",
    "    alpha = 2\n",
    "    beta = 2\n",
    "    s = 1\n",
    "    b = 2\n",
    "    \n",
    "    arr = np.zeros(len(RM))\n",
    "    \n",
    "    for i in range(len(RM)):\n",
    "        \n",
    "        temp = 0\n",
    "        count = 0\n",
    "\n",
    "        for j in range(len(RM[0])):\n",
    "            \n",
    "            if RM[i][j] > b:\n",
    "                temp += np.exp(alpha * BM[i][j] + beta * RM[i][j])\n",
    "                count += 1\n",
    "                \n",
    "        if count != 0:\n",
    "            avg = temp / count\n",
    "            arr[i] = avg\n",
    "\n",
    "    print(\"Monte Carlo Solution: \", np.mean(arr))"
   ]
  },
  {
   "cell_type": "code",
   "execution_count": 13,
   "id": "8b1e118e",
   "metadata": {},
   "outputs": [
    {
     "name": "stdout",
     "output_type": "stream",
     "text": [
      "Monte Carlo Solution:  1228.3840569404947\n"
     ]
    }
   ],
   "source": [
    "case_three(RM, BM)"
   ]
  },
  {
   "cell_type": "markdown",
   "id": "b6ef41af",
   "metadata": {},
   "source": [
    "#### Case Three does not check out. The analytical solution and monte carlo solution are not very similar.  "
   ]
  },
  {
   "cell_type": "markdown",
   "id": "e8e51cfc",
   "metadata": {},
   "source": [
    "## Lookback Analytical Solution"
   ]
  },
  {
   "cell_type": "code",
   "execution_count": 14,
   "id": "9615f670",
   "metadata": {},
   "outputs": [],
   "source": [
    "S = 100\n",
    "r = 0.03\n",
    "sigma = 0.25\n",
    "T = 1\n",
    "K = 100\n",
    "Y = S"
   ]
  },
  {
   "cell_type": "code",
   "execution_count": 17,
   "id": "9884b255",
   "metadata": {},
   "outputs": [
    {
     "data": {
      "text/plain": [
       "-0.0050000000000000044"
      ]
     },
     "execution_count": 17,
     "metadata": {},
     "output_type": "execute_result"
    }
   ],
   "source": [
    "# Compute Alpha\n",
    "alpha = (r - 0.5 * sigma**2) / sigma\n",
    "alpha"
   ]
  },
  {
   "cell_type": "code",
   "execution_count": 18,
   "id": "f28a1c48",
   "metadata": {},
   "outputs": [
    {
     "data": {
      "text/plain": [
       "0.7829484631207401"
      ]
     },
     "execution_count": 18,
     "metadata": {},
     "output_type": "execute_result"
    }
   ],
   "source": [
    "# Compute b\n",
    "b = (1 / sigma) * np.log(Y / S)\n",
    "b"
   ]
  },
  {
   "cell_type": "markdown",
   "id": "166d541e",
   "metadata": {},
   "source": [
    "## From Case Two"
   ]
  },
  {
   "cell_type": "code",
   "execution_count": 19,
   "id": "2ac8413c",
   "metadata": {},
   "outputs": [
    {
     "data": {
      "text/plain": [
       "0.1467702276565263"
      ]
     },
     "execution_count": 19,
     "metadata": {},
     "output_type": "execute_result"
    }
   ],
   "source": [
    "E1 = np.exp(s * alpha**2 / 2)\n",
    "E2 = np.exp(2 * alpha * b)\n",
    "\n",
    "N1 = norm.cdf((s * alpha - b) / np.sqrt(s))\n",
    "N2 = norm.cdf((-s * alpha - b) / np.sqrt(s))\n",
    "N3 = norm.cdf((-s * alpha - 2 * b + k) / np.sqrt(s))\n",
    "\n",
    "B = E1 * (N1 + E2 * (N2 - N3))\n",
    "B"
   ]
  },
  {
   "cell_type": "markdown",
   "id": "daee3e64",
   "metadata": {},
   "source": [
    "## From Case Three"
   ]
  },
  {
   "cell_type": "code",
   "execution_count": 20,
   "id": "a6f56022",
   "metadata": {},
   "outputs": [
    {
     "data": {
      "text/plain": [
       "13.009037503622643"
      ]
     },
     "execution_count": 20,
     "metadata": {},
     "output_type": "execute_result"
    }
   ],
   "source": [
    "B1 = (beta + alpha) / (beta + 2 * alpha)\n",
    "B2 = (2 * alpha) / (beta + 2 * alpha)\n",
    "\n",
    "E1 = np.exp(s * (alpha + beta)**2 / 2)\n",
    "E2 = np.exp(s * alpha**2 / 2)\n",
    "E3 = np.exp(b * (beta + 2 * alpha))\n",
    "\n",
    "N1 = norm.cdf(((alpha + beta) * s - b) / np.sqrt(s))\n",
    "N2 = norm.cdf(-(alpha * s + b) / np.sqrt(s))\n",
    "\n",
    "C = (B1 * 2 * E1 * N1) + (B2 * E2 * E3 * N2)\n",
    "C"
   ]
  },
  {
   "cell_type": "code",
   "execution_count": 21,
   "id": "b26bcfe2",
   "metadata": {},
   "outputs": [
    {
     "name": "stdout",
     "output_type": "stream",
     "text": [
      "Lookback Call Price:  1245.2419337169263\n"
     ]
    }
   ],
   "source": [
    "A = np.exp(-r * T) * Y - S + S * np.exp(-( r + alpha**2 / 2) * T) * C\n",
    "B = -Y * np.exp(-(r + alpha**2 / 2) * T) * B\n",
    "\n",
    "price = A + B\n",
    "print(\"Lookback Call Price: \", price)"
   ]
  },
  {
   "cell_type": "code",
   "execution_count": 22,
   "id": "6306ea19",
   "metadata": {},
   "outputs": [
    {
     "data": {
      "text/plain": [
       "1259.4850068661165"
      ]
     },
     "execution_count": 22,
     "metadata": {},
     "output_type": "execute_result"
    }
   ],
   "source": [
    "A"
   ]
  },
  {
   "cell_type": "markdown",
   "id": "38ffbf46",
   "metadata": {},
   "source": [
    "#### This is much too large, I have an error in 2.c."
   ]
  },
  {
   "cell_type": "code",
   "execution_count": 23,
   "id": "82bd9c81",
   "metadata": {},
   "outputs": [
    {
     "data": {
      "text/plain": [
       "-14.24307314919026"
      ]
     },
     "execution_count": 23,
     "metadata": {},
     "output_type": "execute_result"
    }
   ],
   "source": [
    "B"
   ]
  },
  {
   "cell_type": "markdown",
   "id": "7c30e38d",
   "metadata": {},
   "source": [
    "## Lookback Monte Carlo\n",
    "\n",
    "#### Calls JIT complier"
   ]
  },
  {
   "cell_type": "code",
   "execution_count": 24,
   "id": "9053ec6e",
   "metadata": {},
   "outputs": [],
   "source": [
    "@jit(nopython = True)\n",
    "def lookback_monte_carlo():\n",
    "    \n",
    "    S = 100\n",
    "    r = 0.03\n",
    "    sigma = 0.25\n",
    "    T = 1\n",
    "    K = 100\n",
    "    \n",
    "    N = np.array([100, 1000, 10000, 100000])\n",
    "    n = 100\n",
    "    dt = 1 / n\n",
    "    \n",
    "    prices = np.zeros(4)\n",
    "    index = 0\n",
    "        \n",
    "    for num in N:\n",
    "    \n",
    "        arr = np.zeros(num)\n",
    "    \n",
    "        for i in range(num):\n",
    "\n",
    "            rv = np.random.normal(0, 1, n)\n",
    "            temp = np.zeros(n)\n",
    "\n",
    "            B = np.cumsum(rv * np.sqrt(dt))\n",
    "            temp = S * np.exp((r - 0.5 * sigma**2) * dt + sigma * B)\n",
    "\n",
    "            maxS = np.max(temp)\n",
    "            arr[i] = np.maximum(maxS - K, 0)\n",
    "        \n",
    "        # Compute Expectation\n",
    "        prices[index] = np.exp(-r * T) * np.mean(arr)\n",
    "        index += 1\n",
    "    \n",
    "    return prices"
   ]
  },
  {
   "cell_type": "code",
   "execution_count": 25,
   "id": "150671c4",
   "metadata": {},
   "outputs": [
    {
     "name": "stdout",
     "output_type": "stream",
     "text": [
      "Lookback Call Price:  [21.72193345 21.77175066 21.21901904 21.07044662]\n"
     ]
    }
   ],
   "source": [
    "price = lookback_monte_carlo()\n",
    "print(\"Lookback Call Price: \", price)"
   ]
  },
  {
   "cell_type": "markdown",
   "id": "1406f46d",
   "metadata": {},
   "source": [
    "## Compare Prices\n",
    "\n",
    "#### The prices are not close, but I have an error in my code.  "
   ]
  },
  {
   "cell_type": "code",
   "execution_count": null,
   "id": "ac77ca56",
   "metadata": {},
   "outputs": [],
   "source": []
  }
 ],
 "metadata": {
  "kernelspec": {
   "display_name": "Python 3 (ipykernel)",
   "language": "python",
   "name": "python3"
  },
  "language_info": {
   "codemirror_mode": {
    "name": "ipython",
    "version": 3
   },
   "file_extension": ".py",
   "mimetype": "text/x-python",
   "name": "python",
   "nbconvert_exporter": "python",
   "pygments_lexer": "ipython3",
   "version": "3.10.7"
  }
 },
 "nbformat": 4,
 "nbformat_minor": 5
}
