{
 "cells": [
  {
   "cell_type": "code",
   "execution_count": 1,
   "id": "f0f2b972",
   "metadata": {},
   "outputs": [],
   "source": [
    "import numpy as np\n",
    "import matplotlib.pyplot as plt "
   ]
  },
  {
   "cell_type": "code",
   "execution_count": 2,
   "id": "7d3d7bf6",
   "metadata": {},
   "outputs": [
    {
     "ename": "NameError",
     "evalue": "name 'N' is not defined",
     "output_type": "error",
     "traceback": [
      "\u001b[1;31m---------------------------------------------------------------------------\u001b[0m",
      "\u001b[1;31mNameError\u001b[0m                                 Traceback (most recent call last)",
      "Cell \u001b[1;32mIn[2], line 7\u001b[0m\n\u001b[0;32m      4\u001b[0m sigma_two \u001b[38;5;241m=\u001b[39m \u001b[38;5;241m0.25\u001b[39m\n\u001b[0;32m      6\u001b[0m T \u001b[38;5;241m=\u001b[39m \u001b[38;5;241m1\u001b[39m\n\u001b[1;32m----> 7\u001b[0m dt \u001b[38;5;241m=\u001b[39m T \u001b[38;5;241m/\u001b[39m \u001b[43mN\u001b[49m\n\u001b[0;32m      9\u001b[0m N \u001b[38;5;241m=\u001b[39m \u001b[38;5;241m1000\u001b[39m\n\u001b[0;32m     10\u001b[0m rv_one \u001b[38;5;241m=\u001b[39m np\u001b[38;5;241m.\u001b[39mrandom\u001b[38;5;241m.\u001b[39mnormal(\u001b[38;5;241m0\u001b[39m, \u001b[38;5;241m1\u001b[39m, N)\n",
      "\u001b[1;31mNameError\u001b[0m: name 'N' is not defined"
     ]
    }
   ],
   "source": [
    "S = 100\n",
    "mu = 0.08 \n",
    "sigma_one = 0.3 \n",
    "sigma_two = 0.25\n",
    "\n",
    "N = 1000\n",
    "T = 1\n",
    "dt = T / N\n",
    "\n",
    "rv_one = np.random.normal(0, 1, N)\n",
    "rv_two = np.random.normal(0, 1, N)"
   ]
  },
  {
   "cell_type": "markdown",
   "id": "17c235fd",
   "metadata": {},
   "source": [
    "## Dual Volatility Brownian Motion"
   ]
  },
  {
   "cell_type": "code",
   "execution_count": null,
   "id": "a64a49f4",
   "metadata": {},
   "outputs": [],
   "source": [
    "euler = np.zeros(N)\n",
    "euler[0] = S\n",
    "\n",
    "for i in range(1, N):\n",
    "    \n",
    "    euler[i] = euler[i - 1] + (mu * euler[i - 1] * dt) + (sigma_one * euler[i - 1] * rv_one[i] * np.sqrt(dt)) + (sigma_two * euler[i - 1] * rv_two[i] * np.sqrt(dt))"
   ]
  },
  {
   "cell_type": "code",
   "execution_count": null,
   "id": "ac3e63ce",
   "metadata": {},
   "outputs": [],
   "source": [
    "plt.plot(euler)\n",
    "plt.title(\"Euler Method\")\n",
    "plt.show()"
   ]
  },
  {
   "cell_type": "markdown",
   "id": "f2fe731d",
   "metadata": {},
   "source": [
    "## Change of Measure Kernel"
   ]
  },
  {
   "cell_type": "code",
   "execution_count": null,
   "id": "c5587e92",
   "metadata": {},
   "outputs": [],
   "source": [
    "K = 100\n",
    "T = 1"
   ]
  },
  {
   "cell_type": "code",
   "execution_count": null,
   "id": "757621c6",
   "metadata": {},
   "outputs": [],
   "source": []
  },
  {
   "cell_type": "code",
   "execution_count": null,
   "id": "7801d2bb",
   "metadata": {},
   "outputs": [],
   "source": []
  },
  {
   "cell_type": "markdown",
   "id": "fb387b4e",
   "metadata": {},
   "source": [
    "## Scaled Brownian Motion"
   ]
  },
  {
   "cell_type": "code",
   "execution_count": null,
   "id": "4f5ee74e",
   "metadata": {},
   "outputs": [],
   "source": [
    "mu_three = 0.07\n",
    "sigma_three = 0.35"
   ]
  },
  {
   "cell_type": "code",
   "execution_count": null,
   "id": "aa72d0d7",
   "metadata": {},
   "outputs": [],
   "source": [
    "euler = np.zeros(N)\n",
    "euler[0] = 95\n",
    "\n",
    "for i in range(N):\n",
    "    \n",
    "    euler[i] = euler[i - 1] + (mu_three * euler[i - 1] * dt) + (sigma_three * euler[i - 1] * rv_one[i] * np.sqrt(dt))"
   ]
  },
  {
   "cell_type": "code",
   "execution_count": null,
   "id": "a4daaf2c",
   "metadata": {},
   "outputs": [],
   "source": [
    "plt.plot(euler)\n",
    "plt.title(\"Euler Method\")\n",
    "plt.show()"
   ]
  },
  {
   "cell_type": "code",
   "execution_count": null,
   "id": "6f836028",
   "metadata": {},
   "outputs": [],
   "source": []
  }
 ],
 "metadata": {
  "kernelspec": {
   "display_name": "Python 3 (ipykernel)",
   "language": "python",
   "name": "python3"
  },
  "language_info": {
   "codemirror_mode": {
    "name": "ipython",
    "version": 3
   },
   "file_extension": ".py",
   "mimetype": "text/x-python",
   "name": "python",
   "nbconvert_exporter": "python",
   "pygments_lexer": "ipython3",
   "version": "3.10.7"
  }
 },
 "nbformat": 4,
 "nbformat_minor": 5
}
