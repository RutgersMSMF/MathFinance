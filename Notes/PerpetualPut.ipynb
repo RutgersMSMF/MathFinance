{
 "cells": [
  {
   "cell_type": "code",
   "execution_count": 1,
   "id": "7c8bd201",
   "metadata": {},
   "outputs": [],
   "source": [
    "import numpy as np\n",
    "from numba import jit \n",
    "from scipy.stats import norm\n",
    "import matplotlib.pyplot as plt"
   ]
  },
  {
   "cell_type": "code",
   "execution_count": 2,
   "id": "bba68730",
   "metadata": {},
   "outputs": [],
   "source": [
    "def d1(S, K, T, r, sigma):\n",
    "    \n",
    "    return (np.log(S / K) + (r + sigma**2 / 2) * T) / (sigma * np.sqrt(T))\n",
    "\n",
    "def d2(S, K, T, r, sigma):\n",
    "    \n",
    "    return d1(S, K, T, r, sigma) - sigma * np.sqrt(T)\n",
    "\n",
    "def bs_call(S, K, T, r, sigma):\n",
    "    \n",
    "    return S * norm.cdf(d1(S, K, T, r, sigma)) - K * np.exp(-r * T) * norm.cdf(d2(S, K, T, r, sigma))\n",
    "\n",
    "def bs_put(S, K, T, r, sigma):\n",
    "    \n",
    "    return K * np.exp(-r * T) * norm.cdf(-d2(S, K, T, r, sigma)) - S * norm.cdf(-d1(S, K, T, r, sigma))"
   ]
  },
  {
   "cell_type": "markdown",
   "id": "e52ca636",
   "metadata": {},
   "source": [
    "# <center> Stopping Times </center> "
   ]
  },
  {
   "cell_type": "code",
   "execution_count": 3,
   "id": "85e6ed68",
   "metadata": {},
   "outputs": [],
   "source": [
    "@jit(nopython = True)\n",
    "def get_optimal_stopping_time():\n",
    "    \n",
    "    # Setting Parameters\n",
    "    T = 3 \n",
    "    S0 = 100\n",
    "    r = 0.02 \n",
    "    sigma = 0.3\n",
    "    \n",
    "    # Stopping Time Threshold\n",
    "    L = 105\n",
    "    \n",
    "    # Iteration Variables\n",
    "    N =  100\n",
    "    count = 100000\n",
    "    dt = T / N\n",
    "    arrT = np.zeros(count)\n",
    "    arrS = np.zeros(count)\n",
    "    \n",
    "    # Monte Carlo\n",
    "    for i in range(count):\n",
    "    \n",
    "        stock_process = np.zeros(N)\n",
    "        rv = np.random.normal(0, 1, N)\n",
    "\n",
    "        B = np.cumsum(rv * np.sqrt(dt))\n",
    "        stock_process = 100 * np.exp((r - 0.5 * sigma**2) * dt + sigma * B)\n",
    "        \n",
    "        for j in range(N):\n",
    "            \n",
    "            if stock_process[j] > L:\n",
    "                stock_process[j] = L     # Assume Continuity\n",
    "                break\n",
    "        \n",
    "        arrT[i] = j\n",
    "        arrS[i] = stock_process[j]\n",
    "        \n",
    "    return arrT, arrS"
   ]
  },
  {
   "cell_type": "code",
   "execution_count": 4,
   "id": "07583b11",
   "metadata": {},
   "outputs": [
    {
     "name": "stdout",
     "output_type": "stream",
     "text": [
      "Average Stopping Time:  21.68425\n"
     ]
    },
    {
     "data": {
      "image/png": "[encoded data removed]",
      "text/plain": [
       "<Figure size 640x480 with 1 Axes>"
      ]
     },
     "metadata": {},
     "output_type": "display_data"
    }
   ],
   "source": [
    "stopping_times, stop_price = get_optimal_stopping_time()\n",
    "avg_time = np.mean(stopping_times)\n",
    "print(\"Average Stopping Time: \", avg_time)\n",
    "\n",
    "plt.hist(stopping_times, bins = 100)\n",
    "plt.title(\"Optimal Stopping Times\")\n",
    "plt.show()"
   ]
  },
  {
   "cell_type": "code",
   "execution_count": 5,
   "id": "58fb78dc",
   "metadata": {},
   "outputs": [
    {
     "name": "stdout",
     "output_type": "stream",
     "text": [
      "Monte Carlo Result:  99.28719578770668\n",
      "\n",
      "\n",
      "Monte Carlo Price:  4.382963925332448\n",
      "Black Scholes Price:  2.9745156472881007\n"
     ]
    }
   ],
   "source": [
    "N = len(stop_price)\n",
    "avg = np.zeros(N)\n",
    "payoff = np.zeros(N)\n",
    "\n",
    "for i in range(N):\n",
    "\n",
    "    avg[i] = np.exp(-0.02 * stopping_times[i] / 365) * stop_price[i]\n",
    "    payoff[i] = np.exp(-0.02 * stopping_times[i] / 365) * np.maximum(stop_price[i] - 100, 0)\n",
    "\n",
    "print(\"Monte Carlo Result: \", np.mean(avg))\n",
    "print(\"\\n\")\n",
    "\n",
    "print(\"Monte Carlo Price: \", np.mean(payoff))\n",
    "\n",
    "analytical = bs_call(100, 100, avg_time / 365, 0.02, 0.3)\n",
    "print(\"Black Scholes Price: \", analytical)"
   ]
  },
  {
   "cell_type": "markdown",
   "id": "e3269de5",
   "metadata": {},
   "source": [
    "## The optional sampling theorem is reasonably close. \n",
    "\n",
    "## The monte carlo price is not close to the Black Scholes call option price. \n",
    "\n",
    "## I expected the monte carlo price to be higher because more options will get exercised since the level is only 105. This should skew the distribution. When I increase the level, the price goes up.  "
   ]
  },
  {
   "cell_type": "markdown",
   "id": "f780ab09",
   "metadata": {},
   "source": [
    "# <center> Perpetual Put </center> "
   ]
  },
  {
   "cell_type": "markdown",
   "id": "264732ef",
   "metadata": {},
   "source": [
    "# <center> $L^{*} = \\frac{2 r K}{2r + \\sigma^{2}} $ </center> "
   ]
  },
  {
   "cell_type": "code",
   "execution_count": 6,
   "id": "1d22a0b3",
   "metadata": {},
   "outputs": [],
   "source": [
    "def get_L_star(K, r, sigma):\n",
    "    \n",
    "    return (2 * r * K) / (2 * r + sigma**2) "
   ]
  },
  {
   "cell_type": "code",
   "execution_count": 7,
   "id": "f899d59b",
   "metadata": {},
   "outputs": [
    {
     "data": {
      "text/plain": [
       "32.30769230769231"
      ]
     },
     "execution_count": 7,
     "metadata": {},
     "output_type": "execute_result"
    }
   ],
   "source": [
    "get_L_star(105, 0.02, 0.3)"
   ]
  },
  {
   "cell_type": "markdown",
   "id": "560cce8c",
   "metadata": {},
   "source": [
    "# <center> $ A = \\frac{\\sigma^{2}}{2r} \\cdot L^{\\frac{2r}{\\sigma^{2}} + 1} $ </center> "
   ]
  },
  {
   "cell_type": "code",
   "execution_count": 8,
   "id": "9c30e70f",
   "metadata": {},
   "outputs": [],
   "source": [
    "def get_A(K, r, sigma):\n",
    "    \n",
    "    return (sigma**2 / 2 * r) * get_L_star(K, r, sigma) * ((2 * r / sigma**2) + 1)"
   ]
  },
  {
   "cell_type": "code",
   "execution_count": 9,
   "id": "9f509adc",
   "metadata": {},
   "outputs": [],
   "source": [
    "def perpetual_put():\n",
    "\n",
    "    r = 0.02\n",
    "    sigma = 0.3\n",
    "    K = 105\n",
    "    N = 100\n",
    "    X = np.linspace(80, 120, 100)\n",
    "    payoff = np.maximum(K - X, 0)\n",
    "    puts = np.zeros(N)\n",
    "\n",
    "    for i in range(N):\n",
    "        puts[i] = get_A(K, r, sigma) * X[i]**(-2 * r / sigma**2)\n",
    "    \n",
    "    return puts, payoff"
   ]
  },
  {
   "cell_type": "code",
   "execution_count": 10,
   "id": "827470de",
   "metadata": {},
   "outputs": [
    {
     "data": {
      "image/png": "[encoded data removed]",
      "text/plain": [
       "<Figure size 640x480 with 1 Axes>"
      ]
     },
     "metadata": {},
     "output_type": "display_data"
    }
   ],
   "source": [
    "puts, payoff = perpetual_put()\n",
    "\n",
    "plt.plot(puts)\n",
    "plt.plot(payoff)\n",
    "plt.title(\"Perpetual Put Price\")\n",
    "plt.show()"
   ]
  },
  {
   "cell_type": "markdown",
   "id": "da4f53c2",
   "metadata": {},
   "source": [
    "## Getting weird results, I do not see the typo. I am going to use Wikipedia solution. It should still yield the same solution. "
   ]
  },
  {
   "cell_type": "markdown",
   "id": "607f5c42",
   "metadata": {},
   "source": [
    "# <center> From Wikipedia </center> \n",
    "\n",
    "## <center> https://en.wikipedia.org/wiki/Black%E2%80%93Scholes_model </center> "
   ]
  },
  {
   "cell_type": "code",
   "execution_count": 11,
   "id": "bf0a7b3c",
   "metadata": {},
   "outputs": [
    {
     "data": {
      "image/png": "[encoded data removed]",
      "text/plain": [
       "<Figure size 640x480 with 1 Axes>"
      ]
     },
     "metadata": {},
     "output_type": "display_data"
    }
   ],
   "source": [
    "r = 0.05\n",
    "sigma = 0.1\n",
    "\n",
    "# From Wikipedia\n",
    "l1 = (-(r - 0.5 * sigma**2) + np.sqrt((r - 0.5 * sigma**2)**2 + (2 * sigma**2 * r))) / sigma**2\n",
    "l2 = (-(r - 0.5 * sigma**2) - np.sqrt((r - 0.5 * sigma**2)**2 + (2 * sigma**2 * r))) / sigma**2\n",
    "\n",
    "K = np.linspace(80, 120, 100)\n",
    "S = 100\n",
    "payoff = np.maximum(K - S, 0)\n",
    "\n",
    "V = (K / (1 - l2)) * ((l2 - 1) / l2)**(l2) * (S / K)**l2\n",
    "\n",
    "plt.plot(K, V)\n",
    "plt.plot(K, payoff)\n",
    "plt.title(\"Perpetual Put Options\")\n",
    "plt.show()"
   ]
  },
  {
   "cell_type": "markdown",
   "id": "3a09dd84",
   "metadata": {},
   "source": [
    "## The perpetual put is larger than the payoff value when greater than 115 or less than 110 range. "
   ]
  },
  {
   "cell_type": "code",
   "execution_count": 12,
   "id": "aa3e3ff9",
   "metadata": {},
   "outputs": [],
   "source": [
    "def get_vx(VN, V1, epsilon):\n",
    "   \n",
    "    return (V1 - VN) / epsilon\n",
    "\n",
    "def get_vxx(VN, V1, V2, epsilon):\n",
    "    \n",
    "    return (V2 - (2 * V1) + VN) / epsilon**2\n",
    "\n",
    "def pde():\n",
    "    \n",
    "    r = 0.05\n",
    "    sigma = 0.1\n",
    "\n",
    "    # From Wikipedia\n",
    "    l1 = (-(r - 0.5 * sigma**2) + np.sqrt((r - 0.5 * sigma**2)**2 + (2 * sigma**2 * r))) / sigma**2\n",
    "    l2 = (-(r - 0.5 * sigma**2) - np.sqrt((r - 0.5 * sigma**2)**2 + (2 * sigma**2 * r))) / sigma**2\n",
    "\n",
    "    K = 105\n",
    "    epsilon = 1e-3\n",
    "    S = np.linspace(80, 120, 100)\n",
    "    S1 = S + epsilon\n",
    "    S2 = S + 2 * epsilon\n",
    "    \n",
    "    VN = (K / (1 - l2)) * ((l2 - 1) / l2)**(l2) * (S / K)**l2\n",
    "    V1 = (K / (1 - l2)) * ((l2 - 1) / l2)**(l2) * (S1 / K)**l2\n",
    "    V2 = (K / (1 - l2)) * ((l2 - 1) / l2)**(l2) * (S2 / K)**l2\n",
    "    \n",
    "    vx = get_vx(VN, V1, epsilon)\n",
    "    vxx = get_vxx(VN, V1, V2, epsilon)\n",
    "    \n",
    "    return (r * VN) - (vx * r * S) - (0.5 * vxx * sigma**2 * S**2)"
   ]
  },
  {
   "cell_type": "code",
   "execution_count": 13,
   "id": "655f91f8",
   "metadata": {},
   "outputs": [
    {
     "data": {
      "image/png": "[encoded data removed]",
      "text/plain": [
       "<Figure size 640x480 with 1 Axes>"
      ]
     },
     "metadata": {},
     "output_type": "display_data"
    }
   ],
   "source": [
    "X = np.linspace(80, 120, 100)\n",
    "data = pde()\n",
    "plt.plot(X, data)\n",
    "plt.show()"
   ]
  },
  {
   "cell_type": "markdown",
   "id": "7e9d7d88",
   "metadata": {},
   "source": [
    "# All values are close to zero "
   ]
  },
  {
   "cell_type": "markdown",
   "id": "b16d92a7",
   "metadata": {},
   "source": [
    "# <center> Black Scholes Put Option </center> "
   ]
  },
  {
   "cell_type": "code",
   "execution_count": 14,
   "id": "1a7e6641",
   "metadata": {},
   "outputs": [],
   "source": [
    "@jit(nopython = True)\n",
    "def get_black_scholes_put():\n",
    "    \n",
    "    T = 3\n",
    "    S0 = 100\n",
    "    r = 0.05 \n",
    "    sigma = 0.1 \n",
    "    K = 105\n",
    "    L = 95\n",
    "    \n",
    "    N =  100\n",
    "    count = 100000\n",
    "    dt = T / N\n",
    "    arrS = np.zeros(count)\n",
    "    arrT = np.zeros(count)\n",
    "    \n",
    "    for i in range(count):\n",
    "    \n",
    "        stock_process = np.zeros(N)\n",
    "        rv = np.random.normal(0, 1, N)\n",
    "\n",
    "        B = np.cumsum(rv * np.sqrt(dt))\n",
    "        stock_process = 100 * np.exp((r - 0.5 * sigma**2) * dt + sigma * B)\n",
    "        \n",
    "        for j in range(N):\n",
    "            \n",
    "            if stock_process[j] < L:\n",
    "                stock_process[j] = L\n",
    "                break\n",
    "        \n",
    "        arrS[i] = stock_process[j]\n",
    "        arrT[i] = j\n",
    "        \n",
    "    return arrS, arrT"
   ]
  },
  {
   "cell_type": "code",
   "execution_count": 15,
   "id": "959cc803",
   "metadata": {},
   "outputs": [
    {
     "name": "stdout",
     "output_type": "stream",
     "text": [
      "Average Stopping Time:  45.05733\n",
      "\n",
      "\n",
      "Monte Carlo Price:  7.3318727381199595\n",
      "\n",
      "\n",
      "Black Scholes Price:  4.54994524647347\n"
     ]
    }
   ],
   "source": [
    "stopping_price, stop_time = get_black_scholes_put()\n",
    "avg_time = np.mean(stop_time)\n",
    "print(\"Average Stopping Time: \", avg_time)\n",
    "print(\"\\n\")\n",
    "\n",
    "N = len(stop_time)\n",
    "avg = np.zeros(N)\n",
    "for i in range(N):\n",
    "    avg[i] = np.exp(-0.05 * stop_time[i] / 365) * np.maximum(105 - stopping_price[i], 0)\n",
    "    \n",
    "print(\"Monte Carlo Price: \", np.mean(avg))\n",
    "print(\"\\n\")\n",
    "\n",
    "analytical = bs_put(100, 105, avg_time / 365, 0.05, 0.1)\n",
    "print(\"Black Scholes Price: \", analytical)"
   ]
  },
  {
   "cell_type": "markdown",
   "id": "9115cbbc",
   "metadata": {},
   "source": [
    "## The Monte Carlo Price is bigger. \n",
    "\n",
    "## This is as expected. "
   ]
  },
  {
   "cell_type": "markdown",
   "id": "713eb996",
   "metadata": {},
   "source": [
    "# <center> Perpetual Put Optimal Stopping Times </center> "
   ]
  },
  {
   "cell_type": "code",
   "execution_count": 16,
   "id": "3d9061a8",
   "metadata": {},
   "outputs": [
    {
     "data": {
      "text/plain": [
       "26.041990118975274"
      ]
     },
     "execution_count": 16,
     "metadata": {},
     "output_type": "execute_result"
    }
   ],
   "source": [
    "r = 0.05\n",
    "sigma = 0.1\n",
    "l1 = (-(r - 0.5 * sigma**2) + np.sqrt((r - 0.5 * sigma**2)**2 + 2 * sigma**2 * r)) / sigma**2\n",
    "l2 = (-(r - 0.5 * sigma**2) - np.sqrt((r - 0.5 * sigma**2)**2 + 2 * sigma**2 * r)) / sigma**2\n",
    "K = 120\n",
    "S = 100\n",
    "payoff = np.maximum(K - S, 0)\n",
    "\n",
    "V = (K / (1 - l2)) * ((l2 - 1) / l2)**(l2) * (S / K)**l2\n",
    "V"
   ]
  },
  {
   "cell_type": "code",
   "execution_count": 61,
   "id": "8e00dcfb",
   "metadata": {},
   "outputs": [],
   "source": [
    "@jit(nopython = True)\n",
    "def get_optimal_perpetual_stopping_time():\n",
    "    \n",
    "    # Setting Parameters\n",
    "    S0 = 100\n",
    "    r = 0.05 \n",
    "    sigma = 0.1\n",
    "    K = 120\n",
    "    T = 100\n",
    "    \n",
    "    # Iteration Variables\n",
    "    N =  100\n",
    "    count = 100000\n",
    "    dt = T / N\n",
    "    arrT = np.zeros(count)\n",
    "    arrS = np.zeros(count)\n",
    "    \n",
    "    l1 = (-(r - 0.5 * sigma**2) + np.sqrt((r - 0.5 * sigma**2)**2 + 2 * sigma**2 * r)) / sigma**2\n",
    "    l2 = (-(r - 0.5 * sigma**2) - np.sqrt((r - 0.5 * sigma**2)**2 + 2 * sigma**2 * r)) / sigma**2\n",
    "    \n",
    "    # Monte Carlo\n",
    "    for i in range(count):\n",
    "    \n",
    "        stock_process = np.zeros(N)\n",
    "        rv = np.random.normal(0, 1, N)\n",
    "\n",
    "        B = np.cumsum(rv * np.sqrt(dt))\n",
    "        stock_process = 100 * np.exp((r - 0.5 * sigma**2) * dt + sigma * B)\n",
    "        \n",
    "        for j in range(N):\n",
    "            \n",
    "            L = np.maximum(K - stock_process[j], 0)\n",
    "            V = (K / (1 - l2)) * ((l2 - 1) / l2)**(l2) * (S / K)**l2\n",
    "            \n",
    "            if L > V:\n",
    "                stock_process[j] = L     # Assume Continuity\n",
    "                break\n",
    "        \n",
    "        arrT[i] = j\n",
    "        arrS[i] = stock_process[j]\n",
    "        \n",
    "    return arrT, arrS"
   ]
  },
  {
   "cell_type": "code",
   "execution_count": 62,
   "id": "70ba5465",
   "metadata": {},
   "outputs": [],
   "source": [
    "stop_times, stop_prices = get_optimal_perpetual_stopping_time()"
   ]
  },
  {
   "cell_type": "code",
   "execution_count": 63,
   "id": "9d3014ff",
   "metadata": {},
   "outputs": [
    {
     "data": {
      "image/png": "[encoded data removed]",
      "text/plain": [
       "<Figure size 640x480 with 1 Axes>"
      ]
     },
     "metadata": {},
     "output_type": "display_data"
    }
   ],
   "source": [
    "plt.hist(stop_times, bins = 100)\n",
    "plt.show()"
   ]
  },
  {
   "cell_type": "code",
   "execution_count": 20,
   "id": "a443a8cf",
   "metadata": {},
   "outputs": [
    {
     "data": {
      "text/plain": [
       "79.99999999999999"
      ]
     },
     "execution_count": 20,
     "metadata": {},
     "output_type": "execute_result"
    }
   ],
   "source": [
    "L_star = get_L_star(120, 0.01, 0.1)\n",
    "L_star"
   ]
  },
  {
   "cell_type": "code",
   "execution_count": 21,
   "id": "87b165c0",
   "metadata": {},
   "outputs": [
    {
     "data": {
      "text/plain": [
       "26.041990118975274"
      ]
     },
     "execution_count": 21,
     "metadata": {},
     "output_type": "execute_result"
    }
   ],
   "source": [
    "S = 100\n",
    "K = 120\n",
    "l1 = (-(r - 0.5 * sigma**2) + np.sqrt((r - 0.5 * sigma**2)**2 + 2 * sigma**2 * r)) / sigma**2\n",
    "l2 = (-(r - 0.5 * sigma**2) - np.sqrt((r - 0.5 * sigma**2)**2 + 2 * sigma**2 * r)) / sigma**2\n",
    "V = (K / (1 - l2)) * ((l2 - 1) / l2)**(l2) * (S / K)**l2\n",
    "V"
   ]
  },
  {
   "cell_type": "code",
   "execution_count": 54,
   "id": "6818fcb4",
   "metadata": {},
   "outputs": [],
   "source": [
    "def last_monte_carlo():\n",
    "    \n",
    "    # Setting Parameters\n",
    "    S0 = 100\n",
    "    r = 0.05 \n",
    "    sigma = 0.1\n",
    "    K = 120\n",
    "    T = 25\n",
    "    \n",
    "    # Iteration Variables\n",
    "    N =  100\n",
    "    count = 100000\n",
    "    dt = T / N\n",
    "    arrT = np.zeros(count)\n",
    "    arrS = np.zeros(count)\n",
    "    \n",
    "    l1 = (-(r - 0.5 * sigma**2) + np.sqrt((r - 0.5 * sigma**2)**2 + 2 * sigma**2 * r)) / sigma**2\n",
    "    l2 = (-(r - 0.5 * sigma**2) - np.sqrt((r - 0.5 * sigma**2)**2 + 2 * sigma**2 * r)) / sigma**2\n",
    "    \n",
    "    L = get_L_star(120, 0.01, 0.1)\n",
    "    print(L)\n",
    "    \n",
    "    # Monte Carlo\n",
    "    for i in range(count):\n",
    "    \n",
    "        stock_process = np.zeros(N)\n",
    "        rv = np.random.normal(0, 1, N)\n",
    "\n",
    "        B = np.cumsum(rv * np.sqrt(dt))\n",
    "        stock_process = 100 * np.exp((r - 0.5 * sigma**2) * dt + sigma * B)\n",
    "        \n",
    "        for j in range(N):\n",
    "                        \n",
    "            if stock_process[j] < L:\n",
    "                stock_process[j] = L     # Assume Continuity\n",
    "                break\n",
    "        \n",
    "        arrT[i] = j\n",
    "        arrS[i] = stock_process[j]\n",
    "        \n",
    "    return arrT, arrS"
   ]
  },
  {
   "cell_type": "code",
   "execution_count": 55,
   "id": "6eab1859",
   "metadata": {},
   "outputs": [
    {
     "name": "stdout",
     "output_type": "stream",
     "text": [
      "79.99999999999999\n"
     ]
    }
   ],
   "source": [
    "stop_times, stop_prices = last_monte_carlo()"
   ]
  },
  {
   "cell_type": "code",
   "execution_count": 56,
   "id": "9ece1d5e",
   "metadata": {},
   "outputs": [
    {
     "data": {
      "image/png": "[encoded data removed]",
      "text/plain": [
       "<Figure size 640x480 with 1 Axes>"
      ]
     },
     "metadata": {},
     "output_type": "display_data"
    }
   ],
   "source": [
    "plt.hist(stop_times, bins = 100)\n",
    "plt.show()"
   ]
  },
  {
   "cell_type": "code",
   "execution_count": 57,
   "id": "f4dfb9bf",
   "metadata": {},
   "outputs": [
    {
     "name": "stdout",
     "output_type": "stream",
     "text": [
      "25.88115482165826\n"
     ]
    }
   ],
   "source": [
    "N = len(stop_times)\n",
    "avg = np.zeros(N)\n",
    "for i in range(N):\n",
    "    \n",
    "    avg[i] = np.exp(-0.02 * stop_times[i] / 365) * np.maximum(120 - stop_prices[i], 0)\n",
    "    \n",
    "print(np.mean(avg))"
   ]
  },
  {
   "cell_type": "markdown",
   "id": "3de61bea",
   "metadata": {},
   "source": [
    "## These prices are decently close"
   ]
  },
  {
   "cell_type": "code",
   "execution_count": null,
   "id": "107fe711",
   "metadata": {},
   "outputs": [],
   "source": []
  }
 ],
 "metadata": {
  "kernelspec": {
   "display_name": "Python 3 (ipykernel)",
   "language": "python",
   "name": "python3"
  },
  "language_info": {
   "codemirror_mode": {
    "name": "ipython",
    "version": 3
   },
   "file_extension": ".py",
   "mimetype": "text/x-python",
   "name": "python",
   "nbconvert_exporter": "python",
   "pygments_lexer": "ipython3",
   "version": "3.10.7"
  }
 },
 "nbformat": 4,
 "nbformat_minor": 5
}
