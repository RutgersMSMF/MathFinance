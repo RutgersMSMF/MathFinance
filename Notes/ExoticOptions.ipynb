{
 "cells": [
  {
   "cell_type": "code",
   "execution_count": 1,
   "id": "893ca2f7",
   "metadata": {},
   "outputs": [],
   "source": [
    "import numpy as np\n",
    "from scipy.stats import norm\n",
    "import matplotlib.pyplot as plt "
   ]
  },
  {
   "cell_type": "markdown",
   "id": "10cf8629",
   "metadata": {},
   "source": [
    "## Running Max of Brownian Motion"
   ]
  },
  {
   "cell_type": "code",
   "execution_count": 2,
   "id": "df102b66",
   "metadata": {},
   "outputs": [
    {
     "data": {
      "image/png": "[encoded data removed]",
      "text/plain": [
       "<Figure size 640x480 with 1 Axes>"
      ]
     },
     "metadata": {},
     "output_type": "display_data"
    }
   ],
   "source": [
    "N = 100\n",
    "rv = np.random.normal(0, 1, N)\n",
    "\n",
    "M = np.zeros(N)\n",
    "W = np.zeros(N)\n",
    "\n",
    "for i in range(1, N):\n",
    "    \n",
    "    W[i] = W[i - 1] + rv[i]\n",
    "    \n",
    "    if rv[i] > 0:\n",
    "        M[i] = M[i - 1] + rv[i]\n",
    "    else: \n",
    "        M[i] = M[i - 1]\n",
    "        \n",
    "plt.plot(M, label = \"Max\")\n",
    "plt.plot(W, label = \"BM\")\n",
    "plt.title(\"Running Max\")\n",
    "plt.legend(loc = 'best')\n",
    "plt.show()"
   ]
  },
  {
   "cell_type": "markdown",
   "id": "2f12f637",
   "metadata": {},
   "source": [
    "## Lookback Options"
   ]
  },
  {
   "cell_type": "markdown",
   "id": "ab9def78",
   "metadata": {},
   "source": [
    "## <center> $H_{s}(\\alpha, \\beta, k, b) = E[1_{W_{s}\\geq k}1_{M_{s}\\geq b} \\cdot e^{\\alpha W_{s} + \\beta M_{s}}]$ </center>"
   ]
  },
  {
   "cell_type": "markdown",
   "id": "5a2adc45",
   "metadata": {},
   "source": [
    "## Case One"
   ]
  },
  {
   "cell_type": "markdown",
   "id": "ee5e69d1",
   "metadata": {},
   "source": [
    "## <center> $ 0 \\leq b \\leq k $ </center>"
   ]
  },
  {
   "cell_type": "markdown",
   "id": "e382f39f",
   "metadata": {},
   "source": [
    "## <center> $H_{s}(\\alpha, 0, k, b) = E[1_{W_{s}\\geq k} \\cdot e^{\\alpha W_{s}}] = e^{s \\frac{\\alpha^2}{2}} \\cdot N(\\frac{s\\alpha - k}{\\sqrt{s}}) $ </center>"
   ]
  },
  {
   "cell_type": "code",
   "execution_count": 3,
   "id": "066acc88",
   "metadata": {},
   "outputs": [
    {
     "name": "stdout",
     "output_type": "stream",
     "text": [
      "Analytic Solution:  3.694528049465325\n"
     ]
    }
   ],
   "source": [
    "alpha = 2\n",
    "s = 1\n",
    "b = 1\n",
    "k = 2\n",
    "\n",
    "analytic = np.exp(s * (alpha**2 / 2)) * norm.cdf((s * alpha - k) / np.sqrt(s))\n",
    "print(\"Analytic Solution: \", analytic)"
   ]
  },
  {
   "cell_type": "code",
   "execution_count": 4,
   "id": "c96d6f46",
   "metadata": {},
   "outputs": [
    {
     "name": "stdout",
     "output_type": "stream",
     "text": [
      "Monte Carlo Solution:  26.508804476926386\n"
     ]
    }
   ],
   "source": [
    "MC = np.zeros(N)\n",
    "\n",
    "for i in range(N):\n",
    "    \n",
    "    if rv[i] >= k:\n",
    "        MC[i] = np.exp(alpha * W[i])\n",
    "        \n",
    "print(\"Monte Carlo Solution: \", np.mean(MC))"
   ]
  },
  {
   "cell_type": "markdown",
   "id": "e42d574c",
   "metadata": {},
   "source": [
    "## Case Two"
   ]
  },
  {
   "cell_type": "markdown",
   "id": "54b95df1",
   "metadata": {},
   "source": [
    "## <center> $k \\leq b$ </center> "
   ]
  },
  {
   "cell_type": "markdown",
   "id": "e18af134",
   "metadata": {},
   "source": [
    "## <center> $H_{s}(\\alpha, 0, k, b) = e^{s \\frac{\\alpha^2}{2}} \\cdot (N(\\frac{s\\alpha - k}{\\sqrt{s}}) + e^{2\\alpha b} \\cdot(N(\\frac{-s\\alpha-b}{\\sqrt{s}}) - N(\\frac{-s\\alpha - 2b + k}{\\sqrt{s}})) )$ </center>"
   ]
  },
  {
   "cell_type": "code",
   "execution_count": 5,
   "id": "ad9d3f81",
   "metadata": {},
   "outputs": [
    {
     "name": "stdout",
     "output_type": "stream",
     "text": [
      "Analytic Solution:  6.908035131114269\n"
     ]
    }
   ],
   "source": [
    "alpha = 2\n",
    "s = 1\n",
    "b = 2\n",
    "k = 1\n",
    "\n",
    "N1 = norm.cdf((s * alpha - k) / np.sqrt(s))\n",
    "N2 = norm.cdf((-s * alpha - b) / np.sqrt(s))\n",
    "N3 = norm.cdf((-s * alpha - 2 * b + k) / np.sqrt(s))\n",
    "\n",
    "analytic = np.exp(s * (alpha**2 / 2)) * (N1 + np.exp(2 * alpha* b) * (N2 - N3))\n",
    "print(\"Analytic Solution: \", analytic)"
   ]
  },
  {
   "cell_type": "code",
   "execution_count": 6,
   "id": "9209d231",
   "metadata": {},
   "outputs": [
    {
     "name": "stdout",
     "output_type": "stream",
     "text": [
      "Monte Carlo Solution:  336.40637444047223\n"
     ]
    }
   ],
   "source": [
    "MC = np.zeros(N)\n",
    "\n",
    "for i in range(N):\n",
    "    \n",
    "    if rv[i] >= k:\n",
    "        MC[i] = np.exp(alpha * W[i])\n",
    "        \n",
    "print(\"Monte Carlo Solution: \", np.mean(MC))"
   ]
  },
  {
   "cell_type": "markdown",
   "id": "83ec97e9",
   "metadata": {},
   "source": [
    "## Case Three"
   ]
  },
  {
   "cell_type": "markdown",
   "id": "e014594d",
   "metadata": {},
   "source": [
    "## <center> $ H_{s}(\\alpha, \\beta, -\\infty, b) = \\frac{\\beta + \\alpha}{\\beta + 2\\alpha} \\cdot 2e^{\\frac{s(\\alpha + \\beta)^2}{2}} \\cdot N(\\frac{(\\alpha + \\beta)s - b}{\\sqrt{s}}) + \\frac{2\\alpha}{\\beta + 2\\alpha} e^{\\frac{s\\alpha^2}{2}} + e^{b(\\beta + 2\\alpha)} \\cdot N(\\frac{-\\alpha s + b}{\\sqrt{s}})$ </center>"
   ]
  },
  {
   "cell_type": "code",
   "execution_count": 7,
   "id": "c269b534",
   "metadata": {},
   "outputs": [
    {
     "name": "stdout",
     "output_type": "stream",
     "text": [
      "Analytic Solution:  85266.50947957397\n"
     ]
    }
   ],
   "source": [
    "alpha = 2\n",
    "beta = 2\n",
    "s = 1\n",
    "b = 2\n",
    "\n",
    "E1 = np.exp(s * (alpha + beta)**2 / 2)\n",
    "E2 = np.exp(s * alpha**2 / 2)\n",
    "E3 = np.exp(b * (beta + 2 * alpha))\n",
    "\n",
    "N1 = norm.cdf(((alpha + beta) * s - b) / np.sqrt(s))\n",
    "N2 = norm.cdf((-alpha * s + b) / np.sqrt(s))\n",
    "\n",
    "analytic = ((beta + alpha) / (beta + 2 * alpha)) * 2 * E1  * N1 + ((2 * alpha) / (beta + 2 * alpha)) * E2 + E3 * N2\n",
    "print(\"Analytic Solution: \", analytic)"
   ]
  },
  {
   "cell_type": "code",
   "execution_count": 8,
   "id": "5dadb991",
   "metadata": {},
   "outputs": [
    {
     "name": "stdout",
     "output_type": "stream",
     "text": [
      "Monte Carlo Solution:  336.40637444047223\n"
     ]
    }
   ],
   "source": [
    "MC = np.zeros(N)\n",
    "\n",
    "for i in range(N):\n",
    "    \n",
    "    if rv[i] >= k:\n",
    "        MC[i] = np.exp(alpha * W[i])\n",
    "        \n",
    "print(\"Monte Carlo Solution: \", np.mean(MC))"
   ]
  },
  {
   "cell_type": "markdown",
   "id": "e8e51cfc",
   "metadata": {},
   "source": [
    "## Lookback Analytical Solution"
   ]
  },
  {
   "cell_type": "code",
   "execution_count": 9,
   "id": "9615f670",
   "metadata": {},
   "outputs": [],
   "source": [
    "S = 100\n",
    "r = 0.03\n",
    "sigma = 0.25\n",
    "T = 1\n",
    "K = 100"
   ]
  },
  {
   "cell_type": "code",
   "execution_count": null,
   "id": "a6f56022",
   "metadata": {},
   "outputs": [],
   "source": []
  },
  {
   "cell_type": "code",
   "execution_count": null,
   "id": "b26bcfe2",
   "metadata": {},
   "outputs": [],
   "source": []
  },
  {
   "cell_type": "markdown",
   "id": "7c30e38d",
   "metadata": {},
   "source": [
    "## Lookback Monte Carlo"
   ]
  },
  {
   "cell_type": "code",
   "execution_count": null,
   "id": "9053ec6e",
   "metadata": {},
   "outputs": [],
   "source": []
  },
  {
   "cell_type": "code",
   "execution_count": null,
   "id": "150671c4",
   "metadata": {},
   "outputs": [],
   "source": []
  },
  {
   "cell_type": "code",
   "execution_count": null,
   "id": "fdfb02ac",
   "metadata": {},
   "outputs": [],
   "source": []
  }
 ],
 "metadata": {
  "kernelspec": {
   "display_name": "Python 3 (ipykernel)",
   "language": "python",
   "name": "python3"
  },
  "language_info": {
   "codemirror_mode": {
    "name": "ipython",
    "version": 3
   },
   "file_extension": ".py",
   "mimetype": "text/x-python",
   "name": "python",
   "nbconvert_exporter": "python",
   "pygments_lexer": "ipython3",
   "version": "3.10.2"
  }
 },
 "nbformat": 4,
 "nbformat_minor": 5
}
