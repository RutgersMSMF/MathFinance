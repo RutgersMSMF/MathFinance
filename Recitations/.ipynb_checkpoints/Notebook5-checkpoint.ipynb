{
 "cells": [
  {
   "cell_type": "markdown",
   "id": "76511165",
   "metadata": {},
   "source": [
    "## More on Implied Volatility\n",
    "\n",
    "#### 1. It is an active area of research \n",
    "\n",
    "#### 2. Calibrating the volatility surface is done dfferently at different firms \n",
    "\n",
    "#### 3. Stochastic Volatility methods are often used"
   ]
  },
  {
   "cell_type": "code",
   "execution_count": 55,
   "id": "05fcefd8",
   "metadata": {},
   "outputs": [],
   "source": [
    "import numpy as np \n",
    "from scipy import integrate\n",
    "import matplotlib.pyplot as plt"
   ]
  },
  {
   "cell_type": "code",
   "execution_count": 56,
   "id": "c1fc4663",
   "metadata": {},
   "outputs": [],
   "source": [
    "T = 1 \n",
    "dt = np.array([0.1, 0.01, 0.001, 0.0001])"
   ]
  },
  {
   "cell_type": "code",
   "execution_count": 57,
   "id": "46889e7a",
   "metadata": {},
   "outputs": [],
   "source": [
    "def my_fun(x):\n",
    "    \n",
    "    return np.exp(x)"
   ]
  },
  {
   "cell_type": "code",
   "execution_count": 58,
   "id": "b5515b50",
   "metadata": {},
   "outputs": [
    {
     "data": {
      "image/png": "[encoded data removed]",
      "text/plain": [
       "<Figure size 640x480 with 1 Axes>"
      ]
     },
     "metadata": {},
     "output_type": "display_data"
    }
   ],
   "source": [
    "X = np.linspace(0, 1, 1000)\n",
    "Y = my_fun(X)\n",
    "\n",
    "plt.plot(Y)\n",
    "plt.show()"
   ]
  },
  {
   "cell_type": "code",
   "execution_count": 59,
   "id": "0c71a756",
   "metadata": {},
   "outputs": [
    {
     "name": "stdout",
     "output_type": "stream",
     "text": [
      "Integral:  1.718281828614413\n"
     ]
    }
   ],
   "source": [
    "integral = integrate.simpson(Y, X)\n",
    "print(\"Integral: \", integral)"
   ]
  },
  {
   "cell_type": "markdown",
   "id": "22842dec",
   "metadata": {},
   "source": [
    "## Part One"
   ]
  },
  {
   "cell_type": "code",
   "execution_count": 60,
   "id": "ce3a93a0",
   "metadata": {},
   "outputs": [
    {
     "name": "stdout",
     "output_type": "stream",
     "text": [
      "Integral:  0.18157239853617152\n",
      "Integral:  0.005951932609853876\n",
      "Integral:  0.0016328727531836305\n",
      "Integral:  0.0002373158666834623\n"
     ]
    }
   ],
   "source": [
    "for i in range(4):\n",
    "\n",
    "    integral = 0\n",
    "    N = int(T / dt[i])\n",
    "    X = np.linspace(0, T, N)\n",
    "    rv = np.random.normal(0, 1, N)\n",
    "    \n",
    "    bm = np.zeros(N)\n",
    "    bm[0] = 0\n",
    "    \n",
    "    for j in range(1, N):\n",
    "        bm[j] = bm[j - 1] + rv[j] * np.sqrt(dt[i])\n",
    "                    \n",
    "    for j in range(1, N):\n",
    "        \n",
    "        # f(s) * dW_s * ds\n",
    "        integral += my_fun(X[j]) * (bm[j] - bm[j - 1]) * (X[j] - X[j - 1])\n",
    "        \n",
    "    print(\"Integral: \", integral)"
   ]
  },
  {
   "cell_type": "markdown",
   "id": "67c3e73a",
   "metadata": {},
   "source": [
    "#### Looks like this is approaching zero"
   ]
  },
  {
   "cell_type": "code",
   "execution_count": 61,
   "id": "d41f5b92",
   "metadata": {},
   "outputs": [
    {
     "name": "stdout",
     "output_type": "stream",
     "text": [
      "Integral:  0.7656240667902479\n",
      "Integral:  1.859459074194769\n",
      "Integral:  1.7158247392446115\n",
      "Integral:  1.7464081332396586\n"
     ]
    }
   ],
   "source": [
    "for i in range(4):\n",
    "\n",
    "    integral = 0\n",
    "    N = int(T / dt[i])\n",
    "    X = np.linspace(0, T, N)\n",
    "    rv = np.random.normal(0, 1, N)\n",
    "    \n",
    "    bm = np.zeros(N)\n",
    "    bm[0] = 0\n",
    "    \n",
    "    for j in range(1, N):\n",
    "        bm[j] = bm[j - 1] + rv[j]  * np.sqrt(dt[i])\n",
    "                \n",
    "    for j in range(1, N):\n",
    "        \n",
    "        # f(s) * dW_s^2\n",
    "        integral += my_fun(X[j]) * (bm[j] - bm[j - 1])**2\n",
    "        \n",
    "    print(\"Integral: \", integral)"
   ]
  },
  {
   "cell_type": "markdown",
   "id": "fddf2143",
   "metadata": {},
   "source": [
    "#### Looks like this is approaching the integral"
   ]
  },
  {
   "cell_type": "code",
   "execution_count": 62,
   "id": "d063ee82",
   "metadata": {},
   "outputs": [
    {
     "name": "stdout",
     "output_type": "stream",
     "text": [
      "Integral:  0.20172326067391422\n",
      "Integral:  0.01744418817410375\n",
      "Integral:  0.0017208628356868362\n",
      "Integral:  0.00017185396065355816\n"
     ]
    }
   ],
   "source": [
    "for i in range(4):\n",
    "\n",
    "    integral = 0\n",
    "    N = int(T / dt[i])\n",
    "    X = np.linspace(0, T, N)\n",
    "    rv = np.random.normal(0, 1, N)\n",
    "    \n",
    "    bm = np.zeros(N)\n",
    "    bm[0] = 0\n",
    "    \n",
    "    for j in range(1, N):\n",
    "        bm[j] = bm[j - 1] + rv[j]  * np.sqrt(dt[i])\n",
    "                \n",
    "    for j in range(1, N):\n",
    "        \n",
    "        # f(s) * ds^2\n",
    "        integral += my_fun(X[j]) * (X[j] - X[j - 1])**2\n",
    "        \n",
    "    print(\"Integral: \", integral)"
   ]
  },
  {
   "cell_type": "markdown",
   "id": "fc51e3fa",
   "metadata": {},
   "source": [
    "#### Looks like this is approaching zero"
   ]
  },
  {
   "cell_type": "markdown",
   "id": "285aaa3b",
   "metadata": {},
   "source": [
    "## Part Two"
   ]
  },
  {
   "cell_type": "code",
   "execution_count": 63,
   "id": "877a4b37",
   "metadata": {},
   "outputs": [
    {
     "name": "stdout",
     "output_type": "stream",
     "text": [
      "Integral:  -0.07663530063161776\n",
      "Integral:  -0.004986929655740378\n",
      "Integral:  0.0019100928453908029\n",
      "Integral:  5.668352294000852e-05\n"
     ]
    }
   ],
   "source": [
    "for i in range(4):\n",
    "\n",
    "    integral = 0\n",
    "    N = int(T / dt[i])\n",
    "    X = np.linspace(0, T, N)\n",
    "    rv = np.random.normal(0, 1, N)\n",
    "    \n",
    "    bm = np.zeros(N)\n",
    "    bm[0] = 0\n",
    "    \n",
    "    for j in range(1, N):\n",
    "        bm[j] = bm[j - 1] + rv[j] * np.sqrt(dt[i])\n",
    "                \n",
    "    for j in range(1, N):\n",
    "        \n",
    "        # f(W_s) * dW_s * ds\n",
    "        integral += my_fun(bm[j]) * (bm[j] - bm[j - 1]) * (X[j] - X[j - 1])\n",
    "        \n",
    "    print(\"Integral: \", integral)"
   ]
  },
  {
   "cell_type": "markdown",
   "id": "a6c38a38",
   "metadata": {},
   "source": [
    "#### This is for sure approaching zero"
   ]
  },
  {
   "cell_type": "code",
   "execution_count": 64,
   "id": "45341efa",
   "metadata": {},
   "outputs": [
    {
     "name": "stdout",
     "output_type": "stream",
     "text": [
      "Integral:  1.247397339714895\n",
      "Integral:  0.7860434578789944\n",
      "Integral:  1.9989006421879085\n",
      "Integral:  1.4822713149022941\n"
     ]
    }
   ],
   "source": [
    "for i in range(4):\n",
    "\n",
    "    integral = 0\n",
    "    N = int(T / dt[i])\n",
    "    X = np.linspace(0, T, N)\n",
    "    rv = np.random.normal(0, 1, N)\n",
    "    \n",
    "    bm = np.zeros(N)\n",
    "    bm[0] = 0\n",
    "    \n",
    "    for j in range(1, N):\n",
    "        bm[j] = bm[j - 1] + rv[j] * np.sqrt(dt[i])\n",
    "                \n",
    "    for j in range(1, N):\n",
    "        \n",
    "        # F(W_s) * dW_s^2\n",
    "        integral += my_fun(bm[j]) * (bm[j] - bm[j - 1])**2\n",
    "        \n",
    "    print(\"Integral: \", integral)"
   ]
  },
  {
   "cell_type": "markdown",
   "id": "17566538",
   "metadata": {},
   "source": [
    "#### Might be approaching the integral? "
   ]
  },
  {
   "cell_type": "code",
   "execution_count": 65,
   "id": "50cdb23a",
   "metadata": {},
   "outputs": [
    {
     "name": "stdout",
     "output_type": "stream",
     "text": [
      "Integral:  0.2411915822429316\n",
      "Integral:  0.009330872908842266\n",
      "Integral:  0.0009833220660246435\n",
      "Integral:  5.8424725709896685e-05\n"
     ]
    }
   ],
   "source": [
    "for i in range(4):\n",
    "\n",
    "    integral = 0\n",
    "    N = int(T / dt[i])\n",
    "    X = np.linspace(0, T, N)\n",
    "    rv = np.random.normal(0, 1, N)\n",
    "    \n",
    "    bm = np.zeros(N)\n",
    "    bm[0] = 0\n",
    "    \n",
    "    for j in range(1, N):\n",
    "        bm[j] = bm[j - 1] + rv[j] * np.sqrt(dt[i])\n",
    "                \n",
    "    for j in range(1, N):\n",
    "        \n",
    "        # f(W_s) * ds^2\n",
    "        integral += my_fun(bm[j]) * (X[j] - X[j - 1])**2\n",
    "        \n",
    "    print(\"Integral: \", integral)"
   ]
  },
  {
   "cell_type": "markdown",
   "id": "2aafc23b",
   "metadata": {},
   "source": [
    "#### Also approaching zero"
   ]
  },
  {
   "cell_type": "markdown",
   "id": "d7e3df1f",
   "metadata": {},
   "source": [
    "## Part Three"
   ]
  },
  {
   "cell_type": "code",
   "execution_count": 66,
   "id": "49eb0524",
   "metadata": {},
   "outputs": [],
   "source": [
    "T = 1\n",
    "N = 10000\n",
    "dt = T / N\n",
    "X = np.linspace(0, T, N)"
   ]
  },
  {
   "cell_type": "code",
   "execution_count": 67,
   "id": "75e68656",
   "metadata": {},
   "outputs": [],
   "source": [
    "def ft(x, wt):\n",
    "    \n",
    "    return np.exp(wt)"
   ]
  },
  {
   "cell_type": "code",
   "execution_count": 68,
   "id": "a7709d16",
   "metadata": {},
   "outputs": [],
   "source": [
    "def fx(x, wt):\n",
    "    \n",
    "    return x * np.exp(wt)"
   ]
  },
  {
   "cell_type": "code",
   "execution_count": 69,
   "id": "db914edf",
   "metadata": {},
   "outputs": [],
   "source": [
    "def fxx(x, wt):\n",
    "    \n",
    "    return x * np.exp(wt)"
   ]
  },
  {
   "cell_type": "code",
   "execution_count": 70,
   "id": "9cd3ecf5",
   "metadata": {},
   "outputs": [],
   "source": [
    "rv = np.random.normal(0, 1, N)\n",
    "\n",
    "bm = np.zeros(N)\n",
    "bm[0] = 0\n",
    "\n",
    "for i in range(1, N):\n",
    "    bm[i] = bm[i - 1] + rv[i] * np.sqrt(dt)"
   ]
  },
  {
   "cell_type": "code",
   "execution_count": 71,
   "id": "7ff04840",
   "metadata": {},
   "outputs": [
    {
     "data": {
      "image/png": "[encoded data removed]",
      "text/plain": [
       "<Figure size 640x480 with 1 Axes>"
      ]
     },
     "metadata": {},
     "output_type": "display_data"
    }
   ],
   "source": [
    "plt.plot(bm)\n",
    "plt.show()"
   ]
  },
  {
   "cell_type": "markdown",
   "id": "8c0a2a5a",
   "metadata": {},
   "source": [
    "## Right Hand Integral"
   ]
  },
  {
   "cell_type": "code",
   "execution_count": 72,
   "id": "e1a519bf",
   "metadata": {},
   "outputs": [
    {
     "name": "stdout",
     "output_type": "stream",
     "text": [
      "Right Hand Integral:  6368.31977983244\n"
     ]
    }
   ],
   "source": [
    "integral = 0\n",
    "\n",
    "for i in range(N - 1):\n",
    "    \n",
    "        integral += (ft(X[i], bm[i]) + 0.5 * fxx(X[i], bm[i]) * (X[i + 1] - X[i])) + fx(X[i], bm[i]) * (bm[i + 1] - bm[i])\n",
    "        \n",
    "print(\"Right Hand Integral: \", integral)"
   ]
  },
  {
   "cell_type": "markdown",
   "id": "ec666719",
   "metadata": {},
   "source": [
    "## Left Hand Integral"
   ]
  },
  {
   "cell_type": "code",
   "execution_count": 73,
   "id": "85a3d58e",
   "metadata": {},
   "outputs": [
    {
     "name": "stdout",
     "output_type": "stream",
     "text": [
      "Left Hand Integral:  6368.28109260674\n"
     ]
    }
   ],
   "source": [
    "integral = 0\n",
    "\n",
    "for i in range(1, N):\n",
    "    \n",
    "        integral += (ft(X[i], bm[i]) + 0.5 * fxx(X[i], bm[i]) * (X[i] - X[i - 1])) + fx(X[i], bm[i]) * (bm[i] - bm[i - 1])\n",
    "        \n",
    "print(\"Left Hand Integral: \", integral)"
   ]
  },
  {
   "cell_type": "markdown",
   "id": "d70db0ad",
   "metadata": {},
   "source": [
    "## Comparison of Integral Methods\n",
    "\n",
    "#### They are about the same. "
   ]
  },
  {
   "cell_type": "code",
   "execution_count": null,
   "id": "ce1ef4ed",
   "metadata": {},
   "outputs": [],
   "source": []
  }
 ],
 "metadata": {
  "kernelspec": {
   "display_name": "Python 3 (ipykernel)",
   "language": "python",
   "name": "python3"
  },
  "language_info": {
   "codemirror_mode": {
    "name": "ipython",
    "version": 3
   },
   "file_extension": ".py",
   "mimetype": "text/x-python",
   "name": "python",
   "nbconvert_exporter": "python",
   "pygments_lexer": "ipython3",
   "version": "3.10.7"
  }
 },
 "nbformat": 4,
 "nbformat_minor": 5
}
