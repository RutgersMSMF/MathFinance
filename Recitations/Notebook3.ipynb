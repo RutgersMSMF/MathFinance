{
 "cells": [
  {
   "cell_type": "code",
   "execution_count": 1,
   "id": "9d8cebef",
   "metadata": {},
   "outputs": [],
   "source": [
    "import numpy as np \n",
    "import yfinance as yf\n",
    "from scipy.stats import norm\n",
    "import matplotlib.pyplot as plt\n",
    "from dateutil import parser\n",
    "from datetime import date, datetime"
   ]
  },
  {
   "cell_type": "markdown",
   "id": "0493fc0f",
   "metadata": {},
   "source": [
    "## Compute Price From Black Scholes"
   ]
  },
  {
   "cell_type": "code",
   "execution_count": 2,
   "id": "3846c4aa",
   "metadata": {},
   "outputs": [],
   "source": [
    "# Option Price Parameters\n",
    "strikes = np.array([90, 100, 120, 130])\n",
    "r = 0.01 \n",
    "sigma = 0.3 \n",
    "S = 110\n",
    "T = 1"
   ]
  },
  {
   "cell_type": "code",
   "execution_count": 3,
   "id": "a393281e",
   "metadata": {},
   "outputs": [],
   "source": [
    "def d1(S, K, T, r, sigma):\n",
    "    \n",
    "    return (np.log(S / K) + (r + sigma**2 / 2) * T) / (sigma * np.sqrt(T))\n",
    "\n",
    "def d2(S, K, T, r, sigma):\n",
    "    \n",
    "    return d1(S, K, T, r, sigma) - sigma * np.sqrt(T)"
   ]
  },
  {
   "cell_type": "code",
   "execution_count": 4,
   "id": "88f8d008",
   "metadata": {},
   "outputs": [],
   "source": [
    "def call_price(S, K, T, r, sigma):\n",
    "    \n",
    "    return S * norm.cdf(d1(S, K, T, r, sigma)) - K * np.exp(-r * T) * norm.cdf(d2(S, K, T, r, sigma))"
   ]
  },
  {
   "cell_type": "code",
   "execution_count": 5,
   "id": "2de4a090",
   "metadata": {},
   "outputs": [],
   "source": [
    "def put_price(S, K, T, r, sigma):\n",
    "    \n",
    "    return K * np.exp(-r * T) * norm.cdf(-d2(S, K, T, r, sigma)) - S * norm.cdf(-d1(S, K, T, r, sigma))"
   ]
  },
  {
   "cell_type": "code",
   "execution_count": 6,
   "id": "3e6cc72c",
   "metadata": {},
   "outputs": [
    {
     "name": "stdout",
     "output_type": "stream",
     "text": [
      "Long Put:  4.200777117002893\n",
      "Short Put:  7.71626242057004\n",
      "Long Call:  6.765585201435236\n",
      "Short Call:  9.681274758005067\n",
      "Iron Condor Credit:  6.431174860136977\n"
     ]
    }
   ],
   "source": [
    "# Compute Option Prices \n",
    "long_put = put_price(S, strikes[0], T, r, sigma)\n",
    "short_put = put_price(S, strikes[1], T, r, sigma)\n",
    "\n",
    "print(\"Long Put: \", long_put)\n",
    "print(\"Short Put: \", short_put)\n",
    "\n",
    "short_call = call_price(S, strikes[2], T, r, sigma)\n",
    "long_call = call_price(S, strikes[3], T, r, sigma)\n",
    "\n",
    "print(\"Long Call: \", long_call)\n",
    "print(\"Short Call: \", short_call)\n",
    "\n",
    "# Price Spread\n",
    "iron_condor = short_call + short_put - long_call - long_put\n",
    "\n",
    "print(\"Iron Condor Credit: \", iron_condor)"
   ]
  },
  {
   "cell_type": "markdown",
   "id": "d8d7920b",
   "metadata": {},
   "source": [
    "## Compute Price From Monte Carlo"
   ]
  },
  {
   "cell_type": "code",
   "execution_count": 26,
   "id": "0619bf30",
   "metadata": {},
   "outputs": [
    {
     "name": "stdout",
     "output_type": "stream",
     "text": [
      "Risk Neutral Probability:  0.44205912084670673\n",
      "Option Prices:  [13.73425005 17.96436332 24.04176558 21.86766564]\n",
      "Iron Condor Price:  6.40421320749784\n"
     ]
    }
   ],
   "source": [
    "N = 10000\n",
    "n = 4\n",
    "dt = 1.0\n",
    "sigma = 0.3\n",
    "\n",
    "u = np.exp(sigma * np.sqrt(dt)) \n",
    "d = 1 / u \n",
    "S0 = 110 \n",
    "r = 0.01 \n",
    "\n",
    "K = strikes\n",
    "\n",
    "q = (np.exp(r * dt) - d) / (u - d) # risk neutral probability\n",
    "print(\"Risk Neutral Probability: \", q)\n",
    "prices = np.zeros(4)\n",
    "\n",
    "for i in range(len(strikes)):\n",
    "\n",
    "    U = np.random.binomial(n, q, N) # result of flipping a coin n times, with  N samples of size n\n",
    "    temp = S0 * u**U * d**(n - U)\n",
    "    \n",
    "    if i == 0 or i == 1:\n",
    "        V = np.exp(-r * dt * n) * np.sum(np.maximum(K[i] - temp, 0)) / N\n",
    "    else:\n",
    "        V = np.exp(-r * dt * n) * np.sum(np.maximum(temp - K[i], 0)) / N\n",
    "        \n",
    "    prices[i] = V\n",
    "    \n",
    "print(\"Option Prices: \", prices)\n",
    "iron_condor_mc = prices[1] + prices[2] - prices[0] - prices[3]\n",
    "print(\"Iron Condor Price: \", iron_condor_mc)"
   ]
  },
  {
   "cell_type": "markdown",
   "id": "2e4e23b1",
   "metadata": {},
   "source": [
    "#### These prices are now very close. "
   ]
  },
  {
   "cell_type": "markdown",
   "id": "d6c9ace2",
   "metadata": {},
   "source": [
    "## Compute Implied Volatility of Iron Condor Spread\n",
    "\n",
    "#### The initial sigma was chosen with a wide range. \n",
    "\n",
    "#### This hould ensure that the implied volatility will exist between those bounds. "
   ]
  },
  {
   "cell_type": "code",
   "execution_count": 8,
   "id": "f0c95f23",
   "metadata": {},
   "outputs": [
    {
     "name": "stdout",
     "output_type": "stream",
     "text": [
      "Average Strike:  110.0\n"
     ]
    }
   ],
   "source": [
    "# Compute Average Strike \n",
    "avg_strike = np.mean(strikes)\n",
    "print(\"Average Strike: \", avg_strike)"
   ]
  },
  {
   "cell_type": "code",
   "execution_count": 9,
   "id": "74b8047d",
   "metadata": {},
   "outputs": [],
   "source": [
    "# Lets Pretend This is ATM Call \n",
    "def bisection_ivol(Price, S, K, T, r):\n",
    "        \n",
    "    N = 1000\n",
    "    tol = 1e-5\n",
    "    count = 0    \n",
    "    lower_bound = 0.05\n",
    "    upper_bound = 2.00\n",
    "        \n",
    "    while(count < N):\n",
    "        \n",
    "        sigma = (lower_bound + upper_bound) / 2\n",
    "        Price_implied = S * norm.cdf(d1(S, K, T, r, sigma)) - K * np.exp(-r * T) * norm.cdf(d2(S, K, T, r, sigma))\n",
    "        \n",
    "        # Market Price - Iterative Price\n",
    "        diff = Price - Price_implied \n",
    "        \n",
    "        if np.abs(diff) < tol: \n",
    "            return sigma\n",
    "        \n",
    "        # Iterative Price too High\n",
    "        if diff < 0: \n",
    "            upper_bound = (sigma + upper_bound) / 2\n",
    "        \n",
    "        # Iterative Price too Low\n",
    "        if diff > 0: \n",
    "            lower_bound = (sigma + lower_bound) / 2\n",
    "        \n",
    "        count += 1\n",
    "    \n",
    "    return 0"
   ]
  },
  {
   "cell_type": "code",
   "execution_count": 10,
   "id": "b607c051",
   "metadata": {},
   "outputs": [
    {
     "name": "stdout",
     "output_type": "stream",
     "text": [
      "Market Price:  6.431174860136977\n",
      "Stock Price:  110\n",
      "Strike Price:  110.0\n",
      "Time to Expiry:  1\n",
      "Risk Free Rate:  0.01\n"
     ]
    }
   ],
   "source": [
    "# Print Parameters\n",
    "print(\"Market Price: \", iron_condor)\n",
    "print(\"Stock Price: \", S)\n",
    "print(\"Strike Price: \", avg_strike)\n",
    "print(\"Time to Expiry: \", T)\n",
    "print(\"Risk Free Rate: \", r)"
   ]
  },
  {
   "cell_type": "code",
   "execution_count": 11,
   "id": "cd3a1046",
   "metadata": {},
   "outputs": [
    {
     "name": "stdout",
     "output_type": "stream",
     "text": [
      "Iron Condor Implied Volatility:  0.13448089902711\n"
     ]
    }
   ],
   "source": [
    "iron_condor_vol = bisection_ivol(iron_condor, S, avg_strike, T, r)\n",
    "print(\"Iron Condor Implied Volatility: \", iron_condor_vol)"
   ]
  },
  {
   "cell_type": "markdown",
   "id": "4c30af87",
   "metadata": {},
   "source": [
    "#### The implied volatility of the spread is cheaper than the individual options. "
   ]
  },
  {
   "cell_type": "markdown",
   "id": "e7c5c7c6",
   "metadata": {},
   "source": [
    "## Compute Iron Condor From AMZN"
   ]
  },
  {
   "cell_type": "code",
   "execution_count": 12,
   "id": "1edfe13a",
   "metadata": {},
   "outputs": [
    {
     "name": "stdout",
     "output_type": "stream",
     "text": [
      "('2023-02-10', '2023-02-17', '2023-02-24', '2023-03-03', '2023-03-10', '2023-03-17', '2023-03-24', '2023-04-21', '2023-06-16', '2023-07-21', '2023-09-15', '2023-10-20', '2024-01-19', '2024-03-15', '2024-06-21', '2024-09-20', '2025-01-17', '2025-06-20', '2025-12-19')\n"
     ]
    }
   ],
   "source": [
    "ticker = \"AMZN\"\n",
    "AMZN = yf.Ticker(ticker)\n",
    "exp_date = AMZN.options\n",
    "print(exp_date)"
   ]
  },
  {
   "cell_type": "code",
   "execution_count": 13,
   "id": "67a19108",
   "metadata": {},
   "outputs": [
    {
     "name": "stdout",
     "output_type": "stream",
     "text": [
      "2023-09-15\n"
     ]
    }
   ],
   "source": [
    "date_object = parser.parse(exp_date[10])\n",
    "\n",
    "print(date_object.date()) \n",
    "opt = AMZN.option_chain(str(date_object.date()))\n",
    "calls = opt.calls\n",
    "puts = opt.puts"
   ]
  },
  {
   "cell_type": "code",
   "execution_count": 14,
   "id": "151592d6",
   "metadata": {},
   "outputs": [
    {
     "data": {
      "text/html": [
       "<div>\n",
       "<style scoped>\n",
       "    .dataframe tbody tr th:only-of-type {\n",
       "        vertical-align: middle;\n",
       "    }\n",
       "\n",
       "    .dataframe tbody tr th {\n",
       "        vertical-align: top;\n",
       "    }\n",
       "\n",
       "    .dataframe thead th {\n",
       "        text-align: right;\n",
       "    }\n",
       "</style>\n",
       "<table border=\"1\" class=\"dataframe\">\n",
       "  <thead>\n",
       "    <tr style=\"text-align: right;\">\n",
       "      <th></th>\n",
       "      <th>contractSymbol</th>\n",
       "      <th>lastTradeDate</th>\n",
       "      <th>strike</th>\n",
       "      <th>lastPrice</th>\n",
       "      <th>bid</th>\n",
       "      <th>ask</th>\n",
       "      <th>change</th>\n",
       "      <th>percentChange</th>\n",
       "      <th>volume</th>\n",
       "      <th>openInterest</th>\n",
       "      <th>impliedVolatility</th>\n",
       "      <th>inTheMoney</th>\n",
       "      <th>contractSize</th>\n",
       "      <th>currency</th>\n",
       "    </tr>\n",
       "  </thead>\n",
       "  <tbody>\n",
       "    <tr>\n",
       "      <th>0</th>\n",
       "      <td>AMZN230915C00045000</td>\n",
       "      <td>2023-01-11 19:40:40+00:00</td>\n",
       "      <td>45.0</td>\n",
       "      <td>51.24</td>\n",
       "      <td>58.50</td>\n",
       "      <td>59.05</td>\n",
       "      <td>0.000000</td>\n",
       "      <td>0.000000</td>\n",
       "      <td>6.0</td>\n",
       "      <td>8</td>\n",
       "      <td>0.774172</td>\n",
       "      <td>True</td>\n",
       "      <td>REGULAR</td>\n",
       "      <td>USD</td>\n",
       "    </tr>\n",
       "    <tr>\n",
       "      <th>1</th>\n",
       "      <td>AMZN230915C00050000</td>\n",
       "      <td>2023-01-20 17:44:19+00:00</td>\n",
       "      <td>50.0</td>\n",
       "      <td>47.96</td>\n",
       "      <td>53.85</td>\n",
       "      <td>54.35</td>\n",
       "      <td>0.000000</td>\n",
       "      <td>0.000000</td>\n",
       "      <td>2.0</td>\n",
       "      <td>2544</td>\n",
       "      <td>0.723514</td>\n",
       "      <td>True</td>\n",
       "      <td>REGULAR</td>\n",
       "      <td>USD</td>\n",
       "    </tr>\n",
       "    <tr>\n",
       "      <th>2</th>\n",
       "      <td>AMZN230915C00052000</td>\n",
       "      <td>2023-02-02 20:55:06+00:00</td>\n",
       "      <td>52.0</td>\n",
       "      <td>62.34</td>\n",
       "      <td>51.95</td>\n",
       "      <td>52.50</td>\n",
       "      <td>0.000000</td>\n",
       "      <td>0.000000</td>\n",
       "      <td>1.0</td>\n",
       "      <td>4247</td>\n",
       "      <td>0.702640</td>\n",
       "      <td>True</td>\n",
       "      <td>REGULAR</td>\n",
       "      <td>USD</td>\n",
       "    </tr>\n",
       "    <tr>\n",
       "      <th>3</th>\n",
       "      <td>AMZN230915C00053000</td>\n",
       "      <td>2022-12-12 18:01:09+00:00</td>\n",
       "      <td>53.0</td>\n",
       "      <td>40.00</td>\n",
       "      <td>44.75</td>\n",
       "      <td>45.35</td>\n",
       "      <td>0.000000</td>\n",
       "      <td>0.000000</td>\n",
       "      <td>3.0</td>\n",
       "      <td>215</td>\n",
       "      <td>0.000010</td>\n",
       "      <td>True</td>\n",
       "      <td>REGULAR</td>\n",
       "      <td>USD</td>\n",
       "    </tr>\n",
       "    <tr>\n",
       "      <th>4</th>\n",
       "      <td>AMZN230915C00054000</td>\n",
       "      <td>2022-12-12 18:01:29+00:00</td>\n",
       "      <td>54.0</td>\n",
       "      <td>39.20</td>\n",
       "      <td>43.85</td>\n",
       "      <td>44.45</td>\n",
       "      <td>0.000000</td>\n",
       "      <td>0.000000</td>\n",
       "      <td>1.0</td>\n",
       "      <td>440</td>\n",
       "      <td>0.000010</td>\n",
       "      <td>True</td>\n",
       "      <td>REGULAR</td>\n",
       "      <td>USD</td>\n",
       "    </tr>\n",
       "    <tr>\n",
       "      <th>...</th>\n",
       "      <td>...</td>\n",
       "      <td>...</td>\n",
       "      <td>...</td>\n",
       "      <td>...</td>\n",
       "      <td>...</td>\n",
       "      <td>...</td>\n",
       "      <td>...</td>\n",
       "      <td>...</td>\n",
       "      <td>...</td>\n",
       "      <td>...</td>\n",
       "      <td>...</td>\n",
       "      <td>...</td>\n",
       "      <td>...</td>\n",
       "      <td>...</td>\n",
       "    </tr>\n",
       "    <tr>\n",
       "      <th>204</th>\n",
       "      <td>AMZN230915C04600000</td>\n",
       "      <td>2022-06-03 18:12:55+00:00</td>\n",
       "      <td>4600.0</td>\n",
       "      <td>35.03</td>\n",
       "      <td>30.05</td>\n",
       "      <td>39.50</td>\n",
       "      <td>0.649998</td>\n",
       "      <td>1.890627</td>\n",
       "      <td>4.0</td>\n",
       "      <td>25</td>\n",
       "      <td>3.443849</td>\n",
       "      <td>False</td>\n",
       "      <td>REGULAR</td>\n",
       "      <td>USD</td>\n",
       "    </tr>\n",
       "    <tr>\n",
       "      <th>205</th>\n",
       "      <td>AMZN230915C04700000</td>\n",
       "      <td>2022-06-02 19:15:53+00:00</td>\n",
       "      <td>4700.0</td>\n",
       "      <td>35.00</td>\n",
       "      <td>26.50</td>\n",
       "      <td>36.00</td>\n",
       "      <td>0.000000</td>\n",
       "      <td>0.000000</td>\n",
       "      <td>3.0</td>\n",
       "      <td>86</td>\n",
       "      <td>3.341127</td>\n",
       "      <td>False</td>\n",
       "      <td>REGULAR</td>\n",
       "      <td>USD</td>\n",
       "    </tr>\n",
       "    <tr>\n",
       "      <th>206</th>\n",
       "      <td>AMZN230915C04800000</td>\n",
       "      <td>2022-06-02 16:10:28+00:00</td>\n",
       "      <td>4800.0</td>\n",
       "      <td>27.92</td>\n",
       "      <td>23.55</td>\n",
       "      <td>32.95</td>\n",
       "      <td>0.000000</td>\n",
       "      <td>0.000000</td>\n",
       "      <td>2.0</td>\n",
       "      <td>0</td>\n",
       "      <td>3.253481</td>\n",
       "      <td>False</td>\n",
       "      <td>REGULAR</td>\n",
       "      <td>USD</td>\n",
       "    </tr>\n",
       "    <tr>\n",
       "      <th>207</th>\n",
       "      <td>AMZN230915C04900000</td>\n",
       "      <td>2022-06-02 15:23:46+00:00</td>\n",
       "      <td>4900.0</td>\n",
       "      <td>28.00</td>\n",
       "      <td>21.15</td>\n",
       "      <td>30.35</td>\n",
       "      <td>0.000000</td>\n",
       "      <td>0.000000</td>\n",
       "      <td>1.0</td>\n",
       "      <td>113</td>\n",
       "      <td>3.180117</td>\n",
       "      <td>False</td>\n",
       "      <td>REGULAR</td>\n",
       "      <td>USD</td>\n",
       "    </tr>\n",
       "    <tr>\n",
       "      <th>208</th>\n",
       "      <td>AMZN230915C05000000</td>\n",
       "      <td>2022-06-03 18:12:55+00:00</td>\n",
       "      <td>5000.0</td>\n",
       "      <td>23.52</td>\n",
       "      <td>18.50</td>\n",
       "      <td>27.85</td>\n",
       "      <td>-0.549999</td>\n",
       "      <td>-2.284999</td>\n",
       "      <td>16.0</td>\n",
       "      <td>351</td>\n",
       "      <td>3.102053</td>\n",
       "      <td>False</td>\n",
       "      <td>REGULAR</td>\n",
       "      <td>USD</td>\n",
       "    </tr>\n",
       "  </tbody>\n",
       "</table>\n",
       "<p>209 rows × 14 columns</p>\n",
       "</div>"
      ],
      "text/plain": [
       "          contractSymbol             lastTradeDate  strike  lastPrice    bid  \\\n",
       "0    AMZN230915C00045000 2023-01-11 19:40:40+00:00    45.0      51.24  58.50   \n",
       "1    AMZN230915C00050000 2023-01-20 17:44:19+00:00    50.0      47.96  53.85   \n",
       "2    AMZN230915C00052000 2023-02-02 20:55:06+00:00    52.0      62.34  51.95   \n",
       "3    AMZN230915C00053000 2022-12-12 18:01:09+00:00    53.0      40.00  44.75   \n",
       "4    AMZN230915C00054000 2022-12-12 18:01:29+00:00    54.0      39.20  43.85   \n",
       "..                   ...                       ...     ...        ...    ...   \n",
       "204  AMZN230915C04600000 2022-06-03 18:12:55+00:00  4600.0      35.03  30.05   \n",
       "205  AMZN230915C04700000 2022-06-02 19:15:53+00:00  4700.0      35.00  26.50   \n",
       "206  AMZN230915C04800000 2022-06-02 16:10:28+00:00  4800.0      27.92  23.55   \n",
       "207  AMZN230915C04900000 2022-06-02 15:23:46+00:00  4900.0      28.00  21.15   \n",
       "208  AMZN230915C05000000 2022-06-03 18:12:55+00:00  5000.0      23.52  18.50   \n",
       "\n",
       "       ask    change  percentChange  volume  openInterest  impliedVolatility  \\\n",
       "0    59.05  0.000000       0.000000     6.0             8           0.774172   \n",
       "1    54.35  0.000000       0.000000     2.0          2544           0.723514   \n",
       "2    52.50  0.000000       0.000000     1.0          4247           0.702640   \n",
       "3    45.35  0.000000       0.000000     3.0           215           0.000010   \n",
       "4    44.45  0.000000       0.000000     1.0           440           0.000010   \n",
       "..     ...       ...            ...     ...           ...                ...   \n",
       "204  39.50  0.649998       1.890627     4.0            25           3.443849   \n",
       "205  36.00  0.000000       0.000000     3.0            86           3.341127   \n",
       "206  32.95  0.000000       0.000000     2.0             0           3.253481   \n",
       "207  30.35  0.000000       0.000000     1.0           113           3.180117   \n",
       "208  27.85 -0.549999      -2.284999    16.0           351           3.102053   \n",
       "\n",
       "     inTheMoney contractSize currency  \n",
       "0          True      REGULAR      USD  \n",
       "1          True      REGULAR      USD  \n",
       "2          True      REGULAR      USD  \n",
       "3          True      REGULAR      USD  \n",
       "4          True      REGULAR      USD  \n",
       "..          ...          ...      ...  \n",
       "204       False      REGULAR      USD  \n",
       "205       False      REGULAR      USD  \n",
       "206       False      REGULAR      USD  \n",
       "207       False      REGULAR      USD  \n",
       "208       False      REGULAR      USD  \n",
       "\n",
       "[209 rows x 14 columns]"
      ]
     },
     "execution_count": 14,
     "metadata": {},
     "output_type": "execute_result"
    }
   ],
   "source": [
    "calls"
   ]
  },
  {
   "cell_type": "code",
   "execution_count": 15,
   "id": "f23deef4",
   "metadata": {},
   "outputs": [
    {
     "data": {
      "text/html": [
       "<div>\n",
       "<style scoped>\n",
       "    .dataframe tbody tr th:only-of-type {\n",
       "        vertical-align: middle;\n",
       "    }\n",
       "\n",
       "    .dataframe tbody tr th {\n",
       "        vertical-align: top;\n",
       "    }\n",
       "\n",
       "    .dataframe thead th {\n",
       "        text-align: right;\n",
       "    }\n",
       "</style>\n",
       "<table border=\"1\" class=\"dataframe\">\n",
       "  <thead>\n",
       "    <tr style=\"text-align: right;\">\n",
       "      <th></th>\n",
       "      <th>contractSymbol</th>\n",
       "      <th>lastTradeDate</th>\n",
       "      <th>strike</th>\n",
       "      <th>lastPrice</th>\n",
       "      <th>bid</th>\n",
       "      <th>ask</th>\n",
       "      <th>change</th>\n",
       "      <th>percentChange</th>\n",
       "      <th>volume</th>\n",
       "      <th>openInterest</th>\n",
       "      <th>impliedVolatility</th>\n",
       "      <th>inTheMoney</th>\n",
       "      <th>contractSize</th>\n",
       "      <th>currency</th>\n",
       "    </tr>\n",
       "  </thead>\n",
       "  <tbody>\n",
       "    <tr>\n",
       "      <th>0</th>\n",
       "      <td>AMZN230915P00045000</td>\n",
       "      <td>2023-02-03 20:03:21+00:00</td>\n",
       "      <td>45.0</td>\n",
       "      <td>0.23</td>\n",
       "      <td>0.20</td>\n",
       "      <td>0.24</td>\n",
       "      <td>0.0</td>\n",
       "      <td>0.000000</td>\n",
       "      <td>77.0</td>\n",
       "      <td>1423.0</td>\n",
       "      <td>0.521489</td>\n",
       "      <td>False</td>\n",
       "      <td>REGULAR</td>\n",
       "      <td>USD</td>\n",
       "    </tr>\n",
       "    <tr>\n",
       "      <th>1</th>\n",
       "      <td>AMZN230915P00050000</td>\n",
       "      <td>2023-02-06 18:52:42+00:00</td>\n",
       "      <td>50.0</td>\n",
       "      <td>0.35</td>\n",
       "      <td>0.33</td>\n",
       "      <td>0.38</td>\n",
       "      <td>0.0</td>\n",
       "      <td>0.000000</td>\n",
       "      <td>33.0</td>\n",
       "      <td>545.0</td>\n",
       "      <td>0.504888</td>\n",
       "      <td>False</td>\n",
       "      <td>REGULAR</td>\n",
       "      <td>USD</td>\n",
       "    </tr>\n",
       "    <tr>\n",
       "      <th>2</th>\n",
       "      <td>AMZN230915P00052000</td>\n",
       "      <td>2023-02-03 17:24:57+00:00</td>\n",
       "      <td>52.0</td>\n",
       "      <td>0.34</td>\n",
       "      <td>0.40</td>\n",
       "      <td>0.46</td>\n",
       "      <td>0.0</td>\n",
       "      <td>0.000000</td>\n",
       "      <td>1.0</td>\n",
       "      <td>917.0</td>\n",
       "      <td>0.497319</td>\n",
       "      <td>False</td>\n",
       "      <td>REGULAR</td>\n",
       "      <td>USD</td>\n",
       "    </tr>\n",
       "    <tr>\n",
       "      <th>3</th>\n",
       "      <td>AMZN230915P00053000</td>\n",
       "      <td>2023-02-06 18:11:47+00:00</td>\n",
       "      <td>53.0</td>\n",
       "      <td>0.46</td>\n",
       "      <td>0.44</td>\n",
       "      <td>0.49</td>\n",
       "      <td>0.1</td>\n",
       "      <td>27.777777</td>\n",
       "      <td>1.0</td>\n",
       "      <td>442.0</td>\n",
       "      <td>0.490728</td>\n",
       "      <td>False</td>\n",
       "      <td>REGULAR</td>\n",
       "      <td>USD</td>\n",
       "    </tr>\n",
       "    <tr>\n",
       "      <th>4</th>\n",
       "      <td>AMZN230915P00054000</td>\n",
       "      <td>2023-01-25 15:34:42+00:00</td>\n",
       "      <td>54.0</td>\n",
       "      <td>1.04</td>\n",
       "      <td>0.48</td>\n",
       "      <td>0.53</td>\n",
       "      <td>0.0</td>\n",
       "      <td>0.000000</td>\n",
       "      <td>1.0</td>\n",
       "      <td>662.0</td>\n",
       "      <td>0.486089</td>\n",
       "      <td>False</td>\n",
       "      <td>REGULAR</td>\n",
       "      <td>USD</td>\n",
       "    </tr>\n",
       "    <tr>\n",
       "      <th>...</th>\n",
       "      <td>...</td>\n",
       "      <td>...</td>\n",
       "      <td>...</td>\n",
       "      <td>...</td>\n",
       "      <td>...</td>\n",
       "      <td>...</td>\n",
       "      <td>...</td>\n",
       "      <td>...</td>\n",
       "      <td>...</td>\n",
       "      <td>...</td>\n",
       "      <td>...</td>\n",
       "      <td>...</td>\n",
       "      <td>...</td>\n",
       "      <td>...</td>\n",
       "    </tr>\n",
       "    <tr>\n",
       "      <th>210</th>\n",
       "      <td>AMZN230915P04600000</td>\n",
       "      <td>2022-04-26 17:05:56+00:00</td>\n",
       "      <td>4600.0</td>\n",
       "      <td>1802.80</td>\n",
       "      <td>2368.50</td>\n",
       "      <td>2386.50</td>\n",
       "      <td>0.0</td>\n",
       "      <td>0.000000</td>\n",
       "      <td>8.0</td>\n",
       "      <td>0.0</td>\n",
       "      <td>0.000010</td>\n",
       "      <td>True</td>\n",
       "      <td>REGULAR</td>\n",
       "      <td>USD</td>\n",
       "    </tr>\n",
       "    <tr>\n",
       "      <th>211</th>\n",
       "      <td>AMZN230915P04700000</td>\n",
       "      <td>2022-04-26 17:07:50+00:00</td>\n",
       "      <td>4700.0</td>\n",
       "      <td>1898.70</td>\n",
       "      <td>2468.50</td>\n",
       "      <td>2486.50</td>\n",
       "      <td>0.0</td>\n",
       "      <td>0.000000</td>\n",
       "      <td>2.0</td>\n",
       "      <td>0.0</td>\n",
       "      <td>0.000010</td>\n",
       "      <td>True</td>\n",
       "      <td>REGULAR</td>\n",
       "      <td>USD</td>\n",
       "    </tr>\n",
       "    <tr>\n",
       "      <th>212</th>\n",
       "      <td>AMZN230915P04800000</td>\n",
       "      <td>2022-03-24 16:09:15+00:00</td>\n",
       "      <td>4800.0</td>\n",
       "      <td>1602.17</td>\n",
       "      <td>1912.95</td>\n",
       "      <td>1929.70</td>\n",
       "      <td>0.0</td>\n",
       "      <td>0.000000</td>\n",
       "      <td>NaN</td>\n",
       "      <td>1.0</td>\n",
       "      <td>0.000010</td>\n",
       "      <td>True</td>\n",
       "      <td>REGULAR</td>\n",
       "      <td>USD</td>\n",
       "    </tr>\n",
       "    <tr>\n",
       "      <th>213</th>\n",
       "      <td>AMZN230915P04900000</td>\n",
       "      <td>2022-05-18 14:24:53+00:00</td>\n",
       "      <td>4900.0</td>\n",
       "      <td>2683.70</td>\n",
       "      <td>2444.00</td>\n",
       "      <td>2461.50</td>\n",
       "      <td>0.0</td>\n",
       "      <td>0.000000</td>\n",
       "      <td>2.0</td>\n",
       "      <td>0.0</td>\n",
       "      <td>0.000010</td>\n",
       "      <td>True</td>\n",
       "      <td>REGULAR</td>\n",
       "      <td>USD</td>\n",
       "    </tr>\n",
       "    <tr>\n",
       "      <th>214</th>\n",
       "      <td>AMZN230915P05000000</td>\n",
       "      <td>2022-05-16 04:02:37+00:00</td>\n",
       "      <td>5000.0</td>\n",
       "      <td>2826.79</td>\n",
       "      <td>2544.00</td>\n",
       "      <td>2561.40</td>\n",
       "      <td>0.0</td>\n",
       "      <td>0.000000</td>\n",
       "      <td>NaN</td>\n",
       "      <td>NaN</td>\n",
       "      <td>0.000010</td>\n",
       "      <td>True</td>\n",
       "      <td>REGULAR</td>\n",
       "      <td>USD</td>\n",
       "    </tr>\n",
       "  </tbody>\n",
       "</table>\n",
       "<p>215 rows × 14 columns</p>\n",
       "</div>"
      ],
      "text/plain": [
       "          contractSymbol             lastTradeDate  strike  lastPrice  \\\n",
       "0    AMZN230915P00045000 2023-02-03 20:03:21+00:00    45.0       0.23   \n",
       "1    AMZN230915P00050000 2023-02-06 18:52:42+00:00    50.0       0.35   \n",
       "2    AMZN230915P00052000 2023-02-03 17:24:57+00:00    52.0       0.34   \n",
       "3    AMZN230915P00053000 2023-02-06 18:11:47+00:00    53.0       0.46   \n",
       "4    AMZN230915P00054000 2023-01-25 15:34:42+00:00    54.0       1.04   \n",
       "..                   ...                       ...     ...        ...   \n",
       "210  AMZN230915P04600000 2022-04-26 17:05:56+00:00  4600.0    1802.80   \n",
       "211  AMZN230915P04700000 2022-04-26 17:07:50+00:00  4700.0    1898.70   \n",
       "212  AMZN230915P04800000 2022-03-24 16:09:15+00:00  4800.0    1602.17   \n",
       "213  AMZN230915P04900000 2022-05-18 14:24:53+00:00  4900.0    2683.70   \n",
       "214  AMZN230915P05000000 2022-05-16 04:02:37+00:00  5000.0    2826.79   \n",
       "\n",
       "         bid      ask  change  percentChange  volume  openInterest  \\\n",
       "0       0.20     0.24     0.0       0.000000    77.0        1423.0   \n",
       "1       0.33     0.38     0.0       0.000000    33.0         545.0   \n",
       "2       0.40     0.46     0.0       0.000000     1.0         917.0   \n",
       "3       0.44     0.49     0.1      27.777777     1.0         442.0   \n",
       "4       0.48     0.53     0.0       0.000000     1.0         662.0   \n",
       "..       ...      ...     ...            ...     ...           ...   \n",
       "210  2368.50  2386.50     0.0       0.000000     8.0           0.0   \n",
       "211  2468.50  2486.50     0.0       0.000000     2.0           0.0   \n",
       "212  1912.95  1929.70     0.0       0.000000     NaN           1.0   \n",
       "213  2444.00  2461.50     0.0       0.000000     2.0           0.0   \n",
       "214  2544.00  2561.40     0.0       0.000000     NaN           NaN   \n",
       "\n",
       "     impliedVolatility  inTheMoney contractSize currency  \n",
       "0             0.521489       False      REGULAR      USD  \n",
       "1             0.504888       False      REGULAR      USD  \n",
       "2             0.497319       False      REGULAR      USD  \n",
       "3             0.490728       False      REGULAR      USD  \n",
       "4             0.486089       False      REGULAR      USD  \n",
       "..                 ...         ...          ...      ...  \n",
       "210           0.000010        True      REGULAR      USD  \n",
       "211           0.000010        True      REGULAR      USD  \n",
       "212           0.000010        True      REGULAR      USD  \n",
       "213           0.000010        True      REGULAR      USD  \n",
       "214           0.000010        True      REGULAR      USD  \n",
       "\n",
       "[215 rows x 14 columns]"
      ]
     },
     "execution_count": 15,
     "metadata": {},
     "output_type": "execute_result"
    }
   ],
   "source": [
    "puts"
   ]
  },
  {
   "cell_type": "code",
   "execution_count": 16,
   "id": "5688b7d7",
   "metadata": {},
   "outputs": [],
   "source": [
    "today = date.today()\n",
    "\n",
    "prices = yf.download(ticker, \n",
    "                   start='2020-01-01', \n",
    "                   end=today, \n",
    "                   progress=False, auto_adjust=True)\n",
    "\n",
    "S = prices['Close'][-1]"
   ]
  },
  {
   "cell_type": "code",
   "execution_count": 17,
   "id": "388aa471",
   "metadata": {},
   "outputs": [
    {
     "name": "stdout",
     "output_type": "stream",
     "text": [
      "Stock Price:  103.38999938964844\n"
     ]
    }
   ],
   "source": [
    "print(\"Stock Price: \", S)"
   ]
  },
  {
   "cell_type": "code",
   "execution_count": 18,
   "id": "68d4df50",
   "metadata": {},
   "outputs": [],
   "source": [
    "# Find Puts \n",
    "L = len(puts[\"strike\"])\n",
    "put_prices = np.zeros(2)\n",
    "\n",
    "for i in range(L):\n",
    "    \n",
    "    if puts[\"strike\"][i] == 80:\n",
    "        put_prices[0] = (puts[\"bid\"][i] + puts[\"ask\"][i]) / 2\n",
    "        \n",
    "    if puts[\"strike\"][i] == 90:\n",
    "        put_prices[1] = (puts[\"bid\"][i] + puts[\"ask\"][i]) / 2"
   ]
  },
  {
   "cell_type": "code",
   "execution_count": 19,
   "id": "1bc4e74e",
   "metadata": {},
   "outputs": [],
   "source": [
    "# Find Calls \n",
    "L = len(calls[\"strike\"])\n",
    "call_prices = np.zeros(2)\n",
    "\n",
    "for i in range(L):\n",
    "    \n",
    "    if calls[\"strike\"][i] == 110:\n",
    "        call_prices[0] = (calls[\"bid\"][i] + calls[\"ask\"][i]) / 2\n",
    "        \n",
    "    if puts[\"strike\"][i] == 120:\n",
    "        call_prices[1] = (calls[\"bid\"][i] + calls[\"ask\"][i]) / 2"
   ]
  },
  {
   "cell_type": "code",
   "execution_count": 20,
   "id": "f4c63d44",
   "metadata": {},
   "outputs": [
    {
     "name": "stdout",
     "output_type": "stream",
     "text": [
      "Put Prices:  [3.175 5.625]\n",
      "Call Prices:  [9.475 5.975]\n"
     ]
    }
   ],
   "source": [
    "print(\"Put Prices: \", put_prices)\n",
    "print(\"Call Prices: \", call_prices)"
   ]
  },
  {
   "cell_type": "code",
   "execution_count": 21,
   "id": "6d7b355d",
   "metadata": {},
   "outputs": [
    {
     "name": "stdout",
     "output_type": "stream",
     "text": [
      "AMZN Iron Condor Credit:  5.950000000000001\n"
     ]
    }
   ],
   "source": [
    "amzn_iron_condor = put_prices[1] + call_prices[0] - put_prices[0] - call_prices[1]\n",
    "print(\"AMZN Iron Condor Credit: \", amzn_iron_condor)"
   ]
  },
  {
   "cell_type": "code",
   "execution_count": 22,
   "id": "8cb7465f",
   "metadata": {},
   "outputs": [],
   "source": [
    "amzn_T = ((date_object.date() - today).days / 252)"
   ]
  },
  {
   "cell_type": "code",
   "execution_count": 23,
   "id": "8b5b976a",
   "metadata": {},
   "outputs": [
    {
     "name": "stdout",
     "output_type": "stream",
     "text": [
      "Market Price:  5.950000000000001\n",
      "Stock Price:  103.38999938964844\n",
      "Average Strike:  100\n",
      "Time to Expiry:  0.876984126984127\n",
      "Risk Free Rate:  0.01\n"
     ]
    }
   ],
   "source": [
    "# Print Parameters \n",
    "print(\"Market Price: \", amzn_iron_condor)\n",
    "print(\"Stock Price: \", S)\n",
    "print(\"Average Strike: \", 100)\n",
    "print(\"Time to Expiry: \", amzn_T)\n",
    "print(\"Risk Free Rate: \", r)"
   ]
  },
  {
   "cell_type": "code",
   "execution_count": 24,
   "id": "4c9bf4e5",
   "metadata": {},
   "outputs": [
    {
     "name": "stdout",
     "output_type": "stream",
     "text": [
      "Iron Condor Implied Volatility:  0.08996643423955367\n"
     ]
    }
   ],
   "source": [
    "amzn_iron_condor_vol = bisection_ivol(amzn_iron_condor, S, 100, amzn_T, r)\n",
    "print(\"Iron Condor Implied Volatility: \", amzn_iron_condor_vol)"
   ]
  },
  {
   "cell_type": "markdown",
   "id": "b67f73d1",
   "metadata": {},
   "source": [
    "## Compare to Yahoo Finace Implied Vol \n",
    "\n",
    "#### The implied volatility of the iron condor spread is different than the implied volatility of any strike from the option chain. \n",
    "\n",
    "#### It is much lower, meaning that the iron condor should not be sold, but should be bought. \n",
    "\n",
    "#### The implied volatility is very cheap when compared to individual options. "
   ]
  },
  {
   "cell_type": "code",
   "execution_count": null,
   "id": "3f0ea4d5",
   "metadata": {},
   "outputs": [],
   "source": []
  }
 ],
 "metadata": {
  "kernelspec": {
   "display_name": "Python 3 (ipykernel)",
   "language": "python",
   "name": "python3"
  },
  "language_info": {
   "codemirror_mode": {
    "name": "ipython",
    "version": 3
   },
   "file_extension": ".py",
   "mimetype": "text/x-python",
   "name": "python",
   "nbconvert_exporter": "python",
   "pygments_lexer": "ipython3",
   "version": "3.10.2"
  }
 },
 "nbformat": 4,
 "nbformat_minor": 5
}
