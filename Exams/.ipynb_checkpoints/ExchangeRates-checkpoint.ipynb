{
 "cells": [
  {
   "cell_type": "code",
   "execution_count": 1,
   "id": "685546a6",
   "metadata": {},
   "outputs": [],
   "source": [
    "import numpy as np\n",
    "from scipy.stats import norm\n",
    "import matplotlib.pyplot as plt"
   ]
  },
  {
   "cell_type": "markdown",
   "id": "4626d963",
   "metadata": {},
   "source": [
    "# <center> Stochastic Differential Equations </center> "
   ]
  },
  {
   "cell_type": "code",
   "execution_count": 2,
   "id": "d70c459c",
   "metadata": {},
   "outputs": [],
   "source": [
    "def stock_process(S0, mu, sigma): \n",
    "\n",
    "    N = 10000\n",
    "    n = 100\n",
    "    dt = 1 / n\n",
    "    arr = np.zeros((N, n))\n",
    "    \n",
    "    for i in range(N):\n",
    "        \n",
    "        rv = np.random.normal(0, 1, n)\n",
    "\n",
    "        stock_process = np.zeros(n)\n",
    "        B = np.cumsum(rv * np.sqrt(dt))\n",
    "        stock_process = S0 * np.exp((mu - 0.5 * sigma**2) * dt + sigma * B)\n",
    "        \n",
    "        arr[i] = stock_process\n",
    "    \n",
    "    return arr"
   ]
  },
  {
   "cell_type": "code",
   "execution_count": 3,
   "id": "9ca62d0a",
   "metadata": {},
   "outputs": [],
   "source": [
    "def exchange_process(Q0, mu, sigma, gamma, rho):\n",
    "    \n",
    "    N = 10000\n",
    "    n = 100\n",
    "    dt = 1 / n\n",
    "    arr = np.zeros((N, n))\n",
    "    \n",
    "    for i in range(N):\n",
    "\n",
    "        rv1 = np.random.normal(0, 1, n) \n",
    "        rv2 = np.random.normal(0, 1, n) \n",
    "        t = np.zeros(n)\n",
    "        t[0] = Q0\n",
    "        \n",
    "        for j in range(1, n):\n",
    "            \n",
    "            t[j] = t[j-1] + (gamma * t[j-1] * dt) + (sigma * t[j-1] * (rho * rv1[j] + np.sqrt(1 - rho**2) * rv2[j] * np.sqrt(dt)))\n",
    "            \n",
    "        arr[i] = t\n",
    "        \n",
    "    return arr"
   ]
  },
  {
   "cell_type": "code",
   "execution_count": 4,
   "id": "ba0f8769",
   "metadata": {},
   "outputs": [],
   "source": [
    "S0 = 100\n",
    "Q0 = 5 \n",
    "mu = 0.03 \n",
    "gamma = 0.02\n",
    "sigma1 = 0.3\n",
    "sigma2 = 0.2\n",
    "rho = -0.3\n",
    "r = 0.01\n",
    "rf = 0.015\n",
    "K = 0.2\n",
    "T = 1"
   ]
  },
  {
   "cell_type": "code",
   "execution_count": 5,
   "id": "bbe01814",
   "metadata": {},
   "outputs": [],
   "source": [
    "stock = stock_process(S0, mu, sigma1)\n",
    "exchange = exchange_process(Q0, mu, sigma2, gamma, rho)"
   ]
  },
  {
   "cell_type": "code",
   "execution_count": 6,
   "id": "2686592d",
   "metadata": {},
   "outputs": [
    {
     "data": {
      "text/plain": [
       "0.0250508628001846"
      ]
     },
     "execution_count": 6,
     "metadata": {},
     "output_type": "execute_result"
    }
   ],
   "source": [
    "np.exp(-r * T) * np.mean(np.maximum(K - (1 / exchange.T[-1]) , 0))"
   ]
  },
  {
   "cell_type": "markdown",
   "id": "60b0d69f",
   "metadata": {},
   "source": [
    "# <center> Black Scholes Formula </center> "
   ]
  },
  {
   "cell_type": "code",
   "execution_count": 17,
   "id": "f66b1c67",
   "metadata": {},
   "outputs": [],
   "source": [
    "def d1(K, Q, r, sigma, T):\n",
    "    \n",
    "    return (np.log(K * Q) + (r + sigma**2 / 2) * T) / (sigma * np.sqrt(T))\n",
    "\n",
    "def d2(K, Q, r, sigma, T):\n",
    "    \n",
    "    return (np.log(K * Q) + (r - sigma**2 / 2) * T) / (sigma * np.sqrt(T))\n",
    "\n",
    "def bs_price(K, Q, r, sigma, T):\n",
    "    \n",
    "    return K * norm.cdf(d1(K, Q, r, sigma, T)) - (1 / Q) * norm.cdf(d2(K, Q, r, sigma, T))"
   ]
  },
  {
   "cell_type": "code",
   "execution_count": 18,
   "id": "d33c53ba",
   "metadata": {},
   "outputs": [
    {
     "data": {
      "text/plain": [
       "0.015911299641722998"
      ]
     },
     "execution_count": 18,
     "metadata": {},
     "output_type": "execute_result"
    }
   ],
   "source": [
    "bs_price(K, Q0, r, sigma2, T)"
   ]
  },
  {
   "cell_type": "code",
   "execution_count": null,
   "id": "16585b28",
   "metadata": {},
   "outputs": [],
   "source": []
  },
  {
   "cell_type": "code",
   "execution_count": null,
   "id": "d9721c1c",
   "metadata": {},
   "outputs": [],
   "source": []
  },
  {
   "cell_type": "code",
   "execution_count": null,
   "id": "c6d6eafb",
   "metadata": {},
   "outputs": [],
   "source": []
  },
  {
   "cell_type": "code",
   "execution_count": null,
   "id": "094c7bb7",
   "metadata": {},
   "outputs": [],
   "source": []
  }
 ],
 "metadata": {
  "kernelspec": {
   "display_name": "Python 3 (ipykernel)",
   "language": "python",
   "name": "python3"
  },
  "language_info": {
   "codemirror_mode": {
    "name": "ipython",
    "version": 3
   },
   "file_extension": ".py",
   "mimetype": "text/x-python",
   "name": "python",
   "nbconvert_exporter": "python",
   "pygments_lexer": "ipython3",
   "version": "3.10.2"
  }
 },
 "nbformat": 4,
 "nbformat_minor": 5
}
